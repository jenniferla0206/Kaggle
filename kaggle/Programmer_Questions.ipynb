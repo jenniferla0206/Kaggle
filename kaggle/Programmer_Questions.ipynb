{
 "cells": [
  {
   "cell_type": "code",
   "execution_count": 1,
   "metadata": {
    "collapsed": true
   },
   "outputs": [],
   "source": [
    "#FizzBuzz\n",
    "#\"Write a program that prints the numbers from 1 to 100. But for multiples of three print “Fizz” instead of the \n",
    "#number and for the multiples of five print “Buzz”. For numbers which are multiples of both three and \n",
    "#five print “FizzBuzz”.\""
   ]
  },
  {
   "cell_type": "code",
   "execution_count": 12,
   "metadata": {
    "collapsed": true
   },
   "outputs": [],
   "source": [
    "def fizz_maker(number):\n",
    "    if number%3 == 0:\n",
    "        #print \"Fizz\"\n",
    "        return \"Fizz\"\n",
    "    else: \n",
    "        return \"run\"\n",
    "        \n",
    "def buzz_maker(number):\n",
    "    if number%5 == 0:\n",
    "        return \"Buzz\"\n"
   ]
  },
  {
   "cell_type": "code",
   "execution_count": 17,
   "metadata": {
    "collapsed": false
   },
   "outputs": [
    {
     "name": "stdout",
     "output_type": "stream",
     "text": [
      "[1, 2, 'Fizz', 4, 'Buzz', 'Fizz', 7, 8, 'Fizz', 'Buzz', 11, 'Fizz', 13, 14, 'FizzBuzz', 16, 17, 'Fizz', 19, 'Buzz', 'Fizz', 22, 23, 'Fizz', 'Buzz', 26, 'Fizz', 28, 29, 'FizzBuzz', 31, 32, 'Fizz', 34, 'Buzz', 'Fizz', 37, 38, 'Fizz', 'Buzz', 41, 'Fizz', 43, 44, 'FizzBuzz', 46, 47, 'Fizz', 49, 'Buzz', 'Fizz', 52, 53, 'Fizz', 'Buzz', 56, 'Fizz', 58, 59, 'FizzBuzz', 61, 62, 'Fizz', 64, 'Buzz', 'Fizz', 67, 68, 'Fizz', 'Buzz', 71, 'Fizz', 73, 74, 'FizzBuzz', 76, 77, 'Fizz', 79, 'Buzz', 'Fizz', 82, 83, 'Fizz', 'Buzz', 86, 'Fizz', 88, 89, 'FizzBuzz', 91, 92, 'Fizz', 94, 'Buzz', 'Fizz', 97, 98, 'Fizz', 'Buzz']\n"
     ]
    }
   ],
   "source": [
    "my_list = range(1,101)\n",
    "\n",
    "def fizzify_buzzify(num_list):\n",
    "\n",
    "    fizzy_buzzy = []\n",
    "    for num in num_list:\n",
    "        f = fizz_maker(num)\n",
    "        b = buzz_maker(num)\n",
    "        if f == 'Fizz' and b == \"Buzz\":\n",
    "            fizzy_buzzy.append(f+b)\n",
    "        elif f == 'Fizz':\n",
    "            fizzy_buzzy.append(f)\n",
    "        elif b == 'Buzz':\n",
    "            fizzy_buzzy.append(b)\n",
    "        elif f != \"Fizz\" and b != \"Buzz\":\n",
    "            fizzy_buzzy.append(num)\n",
    "    return fizzy_buzzy \n",
    "\n",
    "        \n",
    "results = fizzify_buzzify(my_list)\n",
    "print results"
   ]
  },
  {
   "cell_type": "code",
   "execution_count": null,
   "metadata": {
    "collapsed": false
   },
   "outputs": [],
   "source": []
  },
  {
   "cell_type": "code",
   "execution_count": null,
   "metadata": {
    "collapsed": true
   },
   "outputs": [],
   "source": []
  }
 ],
 "metadata": {
  "kernelspec": {
   "display_name": "Python 2",
   "language": "python",
   "name": "python2"
  },
  "language_info": {
   "codemirror_mode": {
    "name": "ipython",
    "version": 2
   },
   "file_extension": ".py",
   "mimetype": "text/x-python",
   "name": "python",
   "nbconvert_exporter": "python",
   "pygments_lexer": "ipython2",
   "version": "2.7.11"
  }
 },
 "nbformat": 4,
 "nbformat_minor": 0
}

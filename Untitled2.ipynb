{
 "cells": [
  {
   "cell_type": "code",
   "execution_count": 11,
   "metadata": {
    "collapsed": true
   },
   "outputs": [],
   "source": [
    "import pandas as pd"
   ]
  },
  {
   "cell_type": "code",
   "execution_count": 12,
   "metadata": {
    "collapsed": false
   },
   "outputs": [],
   "source": [
    "train_url = \"http://s3.amazonaws.com/assets.datacamp.com/course/Kaggle/train.csv\"\n",
    "train_data = pd.read_csv(train_url)"
   ]
  },
  {
   "cell_type": "code",
   "execution_count": 5,
   "metadata": {
    "collapsed": false
   },
   "outputs": [],
   "source": [
    "test_url = \"http://s3.amazonaws.com/assets.datacamp.com/course/Kaggle/test.csv\"\n",
    "test_data = pd.read_csv(test_url)"
   ]
  },
  {
   "cell_type": "code",
   "execution_count": 6,
   "metadata": {
    "collapsed": false
   },
   "outputs": [
    {
     "name": "stdout",
     "output_type": "stream",
     "text": [
      "   PassengerId  Survived  Pclass  \\\n",
      "0            1         0       3   \n",
      "1            2         1       1   \n",
      "2            3         1       3   \n",
      "3            4         1       1   \n",
      "4            5         0       3   \n",
      "\n",
      "                                                Name     Sex  Age  SibSp  \\\n",
      "0                            Braund, Mr. Owen Harris    male   22      1   \n",
      "1  Cumings, Mrs. John Bradley (Florence Briggs Th...  female   38      1   \n",
      "2                             Heikkinen, Miss. Laina  female   26      0   \n",
      "3       Futrelle, Mrs. Jacques Heath (Lily May Peel)  female   35      1   \n",
      "4                           Allen, Mr. William Henry    male   35      0   \n",
      "\n",
      "   Parch            Ticket     Fare Cabin Embarked  \n",
      "0      0         A/5 21171   7.2500   NaN        S  \n",
      "1      0          PC 17599  71.2833   C85        C  \n",
      "2      0  STON/O2. 3101282   7.9250   NaN        S  \n",
      "3      0            113803  53.1000  C123        S  \n",
      "4      0            373450   8.0500   NaN        S  \n"
     ]
    }
   ],
   "source": [
    "print(train_data.head())"
   ]
  },
  {
   "cell_type": "code",
   "execution_count": 7,
   "metadata": {
    "collapsed": false
   },
   "outputs": [
    {
     "name": "stdout",
     "output_type": "stream",
     "text": [
      "   PassengerId  Pclass                                          Name     Sex  \\\n",
      "0          892       3                              Kelly, Mr. James    male   \n",
      "1          893       3              Wilkes, Mrs. James (Ellen Needs)  female   \n",
      "2          894       2                     Myles, Mr. Thomas Francis    male   \n",
      "3          895       3                              Wirz, Mr. Albert    male   \n",
      "4          896       3  Hirvonen, Mrs. Alexander (Helga E Lindqvist)  female   \n",
      "\n",
      "    Age  SibSp  Parch   Ticket     Fare Cabin Embarked  \n",
      "0  34.5      0      0   330911   7.8292   NaN        Q  \n",
      "1  47.0      1      0   363272   7.0000   NaN        S  \n",
      "2  62.0      0      0   240276   9.6875   NaN        Q  \n",
      "3  27.0      0      0   315154   8.6625   NaN        S  \n",
      "4  22.0      1      1  3101298  12.2875   NaN        S  \n"
     ]
    }
   ],
   "source": [
    "print(test_data.head())"
   ]
  },
  {
   "cell_type": "code",
   "execution_count": 8,
   "metadata": {
    "collapsed": false
   },
   "outputs": [
    {
     "name": "stdout",
     "output_type": "stream",
     "text": [
      "       PassengerId    Survived      Pclass         Age       SibSp  \\\n",
      "count   891.000000  891.000000  891.000000  714.000000  891.000000   \n",
      "mean    446.000000    0.383838    2.308642   29.699118    0.523008   \n",
      "std     257.353842    0.486592    0.836071   14.526497    1.102743   \n",
      "min       1.000000    0.000000    1.000000    0.420000    0.000000   \n",
      "25%     223.500000    0.000000    2.000000   20.125000    0.000000   \n",
      "50%     446.000000    0.000000    3.000000   28.000000    0.000000   \n",
      "75%     668.500000    1.000000    3.000000   38.000000    1.000000   \n",
      "max     891.000000    1.000000    3.000000   80.000000    8.000000   \n",
      "\n",
      "            Parch        Fare  \n",
      "count  891.000000  891.000000  \n",
      "mean     0.381594   32.204208  \n",
      "std      0.806057   49.693429  \n",
      "min      0.000000    0.000000  \n",
      "25%      0.000000    7.910400  \n",
      "50%      0.000000   14.454200  \n",
      "75%      0.000000   31.000000  \n",
      "max      6.000000  512.329200  \n"
     ]
    }
   ],
   "source": [
    "print(train_data.describe())"
   ]
  },
  {
   "cell_type": "code",
   "execution_count": 9,
   "metadata": {
    "collapsed": true
   },
   "outputs": [],
   "source": [
    "#.describe() summarizes the columns/features of the DataFrame"
   ]
  },
  {
   "cell_type": "code",
   "execution_count": 10,
   "metadata": {
    "collapsed": false
   },
   "outputs": [
    {
     "data": {
      "text/plain": [
       "(891, 12)"
      ]
     },
     "execution_count": 10,
     "metadata": {},
     "output_type": "execute_result"
    }
   ],
   "source": [
    "#return dimensions of the DataFrame by using the shape attribute (describe is a method)\n",
    "train_data.shape"
   ]
  },
  {
   "cell_type": "code",
   "execution_count": 12,
   "metadata": {
    "collapsed": false
   },
   "outputs": [
    {
     "data": {
      "text/plain": [
       "0    549\n",
       "1    342\n",
       "dtype: int64"
      ]
     },
     "execution_count": 12,
     "metadata": {},
     "output_type": "execute_result"
    }
   ],
   "source": [
    "#absolute numbers of survived (since survived = 1, not survived = 0)\n",
    "train_data[\"Survived\"].value_counts()"
   ]
  },
  {
   "cell_type": "code",
   "execution_count": 13,
   "metadata": {
    "collapsed": false
   },
   "outputs": [
    {
     "data": {
      "text/plain": [
       "0    0.616162\n",
       "1    0.383838\n",
       "dtype: float64"
      ]
     },
     "execution_count": 13,
     "metadata": {},
     "output_type": "execute_result"
    }
   ],
   "source": [
    "train_data[\"Survived\"].value_counts(normalize = True)"
   ]
  },
  {
   "cell_type": "code",
   "execution_count": 15,
   "metadata": {
    "collapsed": false
   },
   "outputs": [
    {
     "data": {
      "text/plain": [
       "1    233\n",
       "0     81\n",
       "dtype: int64"
      ]
     },
     "execution_count": 15,
     "metadata": {},
     "output_type": "execute_result"
    }
   ],
   "source": [
    "#combine multiple features to get sub information\n",
    "train_data[\"Survived\"][train_data[\"Sex\"] == \"female\"].value_counts()"
   ]
  },
  {
   "cell_type": "code",
   "execution_count": 16,
   "metadata": {
    "collapsed": false
   },
   "outputs": [
    {
     "data": {
      "text/plain": [
       "0    468\n",
       "1    109\n",
       "dtype: int64"
      ]
     },
     "execution_count": 16,
     "metadata": {},
     "output_type": "execute_result"
    }
   ],
   "source": [
    "#combine multiple features to get sub information\n",
    "train_data[\"Survived\"][train_data[\"Sex\"] == \"male\"].value_counts()"
   ]
  },
  {
   "cell_type": "code",
   "execution_count": 17,
   "metadata": {
    "collapsed": false
   },
   "outputs": [
    {
     "data": {
      "text/plain": [
       "1    0.742038\n",
       "0    0.257962\n",
       "dtype: float64"
      ]
     },
     "execution_count": 17,
     "metadata": {},
     "output_type": "execute_result"
    }
   ],
   "source": [
    "#combine multiple features to get sub information\n",
    "train_data[\"Survived\"][train_data[\"Sex\"] == \"female\"].value_counts(normalize = True)"
   ]
  },
  {
   "cell_type": "code",
   "execution_count": 18,
   "metadata": {
    "collapsed": true
   },
   "outputs": [],
   "source": [
    "#Can start to ask questions about the data. Like does age play a role?"
   ]
  },
  {
   "cell_type": "code",
   "execution_count": 19,
   "metadata": {
    "collapsed": true
   },
   "outputs": [],
   "source": [
    "#create a new column called \"Child\", because children were probably saved first, and make anyone under 18 a child."
   ]
  },
  {
   "cell_type": "code",
   "execution_count": 20,
   "metadata": {
    "collapsed": true
   },
   "outputs": [],
   "source": [
    "#use boolean 1 = less than 18, 0 = 18 or older"
   ]
  },
  {
   "cell_type": "code",
   "execution_count": 21,
   "metadata": {
    "collapsed": true
   },
   "outputs": [],
   "source": [
    "#To make this new column you need to make the column and then fill in the data. "
   ]
  },
  {
   "cell_type": "code",
   "execution_count": 26,
   "metadata": {
    "collapsed": false
   },
   "outputs": [],
   "source": [
    "train_data[\"Child\"] = float(\"NaN\")"
   ]
  },
  {
   "cell_type": "code",
   "execution_count": 27,
   "metadata": {
    "collapsed": false
   },
   "outputs": [
    {
     "name": "stdout",
     "output_type": "stream",
     "text": [
      "0    NaN\n",
      "1    NaN\n",
      "2    NaN\n",
      "3    NaN\n",
      "4    NaN\n",
      "5    NaN\n",
      "6    NaN\n",
      "7    NaN\n",
      "8    NaN\n",
      "9    NaN\n",
      "10   NaN\n",
      "11   NaN\n",
      "12   NaN\n",
      "13   NaN\n",
      "14   NaN\n",
      "...\n",
      "876   NaN\n",
      "877   NaN\n",
      "878   NaN\n",
      "879   NaN\n",
      "880   NaN\n",
      "881   NaN\n",
      "882   NaN\n",
      "883   NaN\n",
      "884   NaN\n",
      "885   NaN\n",
      "886   NaN\n",
      "887   NaN\n",
      "888   NaN\n",
      "889   NaN\n",
      "890   NaN\n",
      "Name: Child, Length: 891, dtype: float64\n"
     ]
    }
   ],
   "source": [
    "print(train_data[\"Child\"])"
   ]
  },
  {
   "cell_type": "code",
   "execution_count": 29,
   "metadata": {
    "collapsed": false
   },
   "outputs": [],
   "source": [
    "train_data.loc[train_data.Age < 18, \"Child\"] = 1"
   ]
  },
  {
   "cell_type": "code",
   "execution_count": 31,
   "metadata": {
    "collapsed": false
   },
   "outputs": [],
   "source": [
    "train_data.loc[train_data.Age >= 18, \"Child\"] = 0"
   ]
  },
  {
   "cell_type": "code",
   "execution_count": 32,
   "metadata": {
    "collapsed": false
   },
   "outputs": [
    {
     "name": "stdout",
     "output_type": "stream",
     "text": [
      "0      0\n",
      "1      0\n",
      "2      0\n",
      "3      0\n",
      "4      0\n",
      "5    NaN\n",
      "6      0\n",
      "7      1\n",
      "8      0\n",
      "9      1\n",
      "10     1\n",
      "11     0\n",
      "12     0\n",
      "13     0\n",
      "14     1\n",
      "...\n",
      "876     0\n",
      "877     0\n",
      "878   NaN\n",
      "879     0\n",
      "880     0\n",
      "881     0\n",
      "882     0\n",
      "883     0\n",
      "884     0\n",
      "885     0\n",
      "886     0\n",
      "887     0\n",
      "888   NaN\n",
      "889     0\n",
      "890     0\n",
      "Name: Child, Length: 891, dtype: float64\n"
     ]
    }
   ],
   "source": [
    "print(train_data[\"Child\"])"
   ]
  },
  {
   "cell_type": "code",
   "execution_count": 33,
   "metadata": {
    "collapsed": true
   },
   "outputs": [],
   "source": [
    "#train_data.loc is much more stable to assign values to columns using values from other columns. \n",
    "#see http://stackoverflow.com/questions/19226488/python-pandas-change-one-value-based-on-another-value"
   ]
  },
  {
   "cell_type": "code",
   "execution_count": 34,
   "metadata": {
    "collapsed": true
   },
   "outputs": [],
   "source": [
    "#Make a prediction. If a person in the test data is female, set their survival to yes"
   ]
  },
  {
   "cell_type": "code",
   "execution_count": 36,
   "metadata": {
    "collapsed": true
   },
   "outputs": [],
   "source": [
    "test_data[\"Survived\"] = float(0)\n",
    "#intialize the survived column"
   ]
  },
  {
   "cell_type": "code",
   "execution_count": 38,
   "metadata": {
    "collapsed": false
   },
   "outputs": [],
   "source": [
    "test_data.loc[test_data.Sex == 'female', \"Survived\"] = 1"
   ]
  },
  {
   "cell_type": "code",
   "execution_count": 39,
   "metadata": {
    "collapsed": false
   },
   "outputs": [
    {
     "name": "stdout",
     "output_type": "stream",
     "text": [
      "0     0\n",
      "1     1\n",
      "2     0\n",
      "3     0\n",
      "4     1\n",
      "5     0\n",
      "6     1\n",
      "7     0\n",
      "8     1\n",
      "9     0\n",
      "10    0\n",
      "11    0\n",
      "12    1\n",
      "13    0\n",
      "14    1\n",
      "...\n",
      "403    0\n",
      "404    0\n",
      "405    0\n",
      "406    0\n",
      "407    0\n",
      "408    1\n",
      "409    1\n",
      "410    1\n",
      "411    1\n",
      "412    1\n",
      "413    0\n",
      "414    1\n",
      "415    0\n",
      "416    0\n",
      "417    0\n",
      "Name: Survived, Length: 418, dtype: float64\n"
     ]
    }
   ],
   "source": [
    "print(test_data[\"Survived\"])"
   ]
  },
  {
   "cell_type": "code",
   "execution_count": 40,
   "metadata": {
    "collapsed": true
   },
   "outputs": [],
   "source": [
    "test_sex_survive = test_data[[\"Sex\", \"Survived\"]]\n",
    "#sub_slice the dataframe. this makes a new data frame"
   ]
  },
  {
   "cell_type": "code",
   "execution_count": 41,
   "metadata": {
    "collapsed": false
   },
   "outputs": [
    {
     "name": "stdout",
     "output_type": "stream",
     "text": [
      "        Sex  Survived\n",
      "0      male         0\n",
      "1    female         1\n",
      "2      male         0\n",
      "3      male         0\n",
      "4    female         1\n",
      "5      male         0\n",
      "6    female         1\n",
      "7      male         0\n",
      "8    female         1\n",
      "9      male         0\n",
      "10     male         0\n",
      "11     male         0\n",
      "12   female         1\n",
      "13     male         0\n",
      "14   female         1\n",
      "15   female         1\n",
      "16     male         0\n",
      "17     male         0\n",
      "18   female         1\n",
      "19   female         1\n",
      "20     male         0\n",
      "21     male         0\n",
      "22   female         1\n",
      "23     male         0\n",
      "24   female         1\n",
      "25     male         0\n",
      "26   female         1\n",
      "27     male         0\n",
      "28     male         0\n",
      "29     male         0\n",
      "..      ...       ...\n",
      "388    male         0\n",
      "389    male         0\n",
      "390    male         0\n",
      "391  female         1\n",
      "392    male         0\n",
      "393    male         0\n",
      "394    male         0\n",
      "395  female         1\n",
      "396    male         0\n",
      "397  female         1\n",
      "398    male         0\n",
      "399    male         0\n",
      "400  female         1\n",
      "401    male         0\n",
      "402  female         1\n",
      "403    male         0\n",
      "404    male         0\n",
      "405    male         0\n",
      "406    male         0\n",
      "407    male         0\n",
      "408  female         1\n",
      "409  female         1\n",
      "410  female         1\n",
      "411  female         1\n",
      "412  female         1\n",
      "413    male         0\n",
      "414  female         1\n",
      "415    male         0\n",
      "416    male         0\n",
      "417    male         0\n",
      "\n",
      "[418 rows x 2 columns]\n"
     ]
    }
   ],
   "source": [
    "print(test_sex_survive)"
   ]
  },
  {
   "cell_type": "code",
   "execution_count": 42,
   "metadata": {
    "collapsed": true
   },
   "outputs": [],
   "source": [
    "import numpy as np\n",
    "from sklearn import tree"
   ]
  },
  {
   "cell_type": "code",
   "execution_count": 44,
   "metadata": {
    "collapsed": true
   },
   "outputs": [],
   "source": [
    "# Need to clean up the data including replacing strings with numbers and filling in missing data\n",
    "    #filling in missing can be adjusted based on the information in the data set\n",
    "#convert string data to numerical data.\n",
    "# Female = 1; Male = 0\n",
    "# Embarked: S = 0, C = 1, Q = 2"
   ]
  },
  {
   "cell_type": "code",
   "execution_count": 45,
   "metadata": {
    "collapsed": true
   },
   "outputs": [],
   "source": [
    "train_data.loc[train_data.Sex == 'female', \"Sex\"] = 1\n",
    "train_data.loc[train_data.Sex == 'male', \"Sex\"] = 0"
   ]
  },
  {
   "cell_type": "code",
   "execution_count": 46,
   "metadata": {
    "collapsed": true
   },
   "outputs": [],
   "source": [
    "train_data.loc[train_data.Embarked == \"S\", \"Embarked\"] = 0\n",
    "train_data.loc[train_data.Embarked == \"C\", \"Embarked\"] = 1\n",
    "train_data.loc[train_data.Embarked == \"Q\", \"Embarked\"] = 2"
   ]
  },
  {
   "cell_type": "code",
   "execution_count": 47,
   "metadata": {
    "collapsed": true
   },
   "outputs": [],
   "source": [
    "#Missing data"
   ]
  },
  {
   "cell_type": "code",
   "execution_count": 48,
   "metadata": {
    "collapsed": false
   },
   "outputs": [
    {
     "name": "stdout",
     "output_type": "stream",
     "text": [
      "     PassengerId  Survived  Pclass  \\\n",
      "0              1         0       3   \n",
      "1              2         1       1   \n",
      "2              3         1       3   \n",
      "3              4         1       1   \n",
      "4              5         0       3   \n",
      "5              6         0       3   \n",
      "6              7         0       1   \n",
      "7              8         0       3   \n",
      "8              9         1       3   \n",
      "9             10         1       2   \n",
      "10            11         1       3   \n",
      "11            12         1       1   \n",
      "12            13         0       3   \n",
      "13            14         0       3   \n",
      "14            15         0       3   \n",
      "15            16         1       2   \n",
      "16            17         0       3   \n",
      "17            18         1       2   \n",
      "18            19         0       3   \n",
      "19            20         1       3   \n",
      "20            21         0       2   \n",
      "21            22         1       2   \n",
      "22            23         1       3   \n",
      "23            24         1       1   \n",
      "24            25         0       3   \n",
      "25            26         1       3   \n",
      "26            27         0       3   \n",
      "27            28         0       1   \n",
      "28            29         1       3   \n",
      "29            30         0       3   \n",
      "..           ...       ...     ...   \n",
      "861          862         0       2   \n",
      "862          863         1       1   \n",
      "863          864         0       3   \n",
      "864          865         0       2   \n",
      "865          866         1       2   \n",
      "866          867         1       2   \n",
      "867          868         0       1   \n",
      "868          869         0       3   \n",
      "869          870         1       3   \n",
      "870          871         0       3   \n",
      "871          872         1       1   \n",
      "872          873         0       1   \n",
      "873          874         0       3   \n",
      "874          875         1       2   \n",
      "875          876         1       3   \n",
      "876          877         0       3   \n",
      "877          878         0       3   \n",
      "878          879         0       3   \n",
      "879          880         1       1   \n",
      "880          881         1       2   \n",
      "881          882         0       3   \n",
      "882          883         0       3   \n",
      "883          884         0       2   \n",
      "884          885         0       3   \n",
      "885          886         0       3   \n",
      "886          887         0       2   \n",
      "887          888         1       1   \n",
      "888          889         0       3   \n",
      "889          890         1       1   \n",
      "890          891         0       3   \n",
      "\n",
      "                                                  Name Sex  Age  SibSp  Parch  \\\n",
      "0                              Braund, Mr. Owen Harris   0   22      1      0   \n",
      "1    Cumings, Mrs. John Bradley (Florence Briggs Th...   1   38      1      0   \n",
      "2                               Heikkinen, Miss. Laina   1   26      0      0   \n",
      "3         Futrelle, Mrs. Jacques Heath (Lily May Peel)   1   35      1      0   \n",
      "4                             Allen, Mr. William Henry   0   35      0      0   \n",
      "5                                     Moran, Mr. James   0  NaN      0      0   \n",
      "6                              McCarthy, Mr. Timothy J   0   54      0      0   \n",
      "7                       Palsson, Master. Gosta Leonard   0    2      3      1   \n",
      "8    Johnson, Mrs. Oscar W (Elisabeth Vilhelmina Berg)   1   27      0      2   \n",
      "9                  Nasser, Mrs. Nicholas (Adele Achem)   1   14      1      0   \n",
      "10                     Sandstrom, Miss. Marguerite Rut   1    4      1      1   \n",
      "11                            Bonnell, Miss. Elizabeth   1   58      0      0   \n",
      "12                      Saundercock, Mr. William Henry   0   20      0      0   \n",
      "13                         Andersson, Mr. Anders Johan   0   39      1      5   \n",
      "14                Vestrom, Miss. Hulda Amanda Adolfina   1   14      0      0   \n",
      "15                    Hewlett, Mrs. (Mary D Kingcome)    1   55      0      0   \n",
      "16                                Rice, Master. Eugene   0    2      4      1   \n",
      "17                        Williams, Mr. Charles Eugene   0  NaN      0      0   \n",
      "18   Vander Planke, Mrs. Julius (Emelia Maria Vande...   1   31      1      0   \n",
      "19                             Masselmani, Mrs. Fatima   1  NaN      0      0   \n",
      "20                                Fynney, Mr. Joseph J   0   35      0      0   \n",
      "21                               Beesley, Mr. Lawrence   0   34      0      0   \n",
      "22                         McGowan, Miss. Anna \"Annie\"   1   15      0      0   \n",
      "23                        Sloper, Mr. William Thompson   0   28      0      0   \n",
      "24                       Palsson, Miss. Torborg Danira   1    8      3      1   \n",
      "25   Asplund, Mrs. Carl Oscar (Selma Augusta Emilia...   1   38      1      5   \n",
      "26                             Emir, Mr. Farred Chehab   0  NaN      0      0   \n",
      "27                      Fortune, Mr. Charles Alexander   0   19      3      2   \n",
      "28                       O'Dwyer, Miss. Ellen \"Nellie\"   1  NaN      0      0   \n",
      "29                                 Todoroff, Mr. Lalio   0  NaN      0      0   \n",
      "..                                                 ...  ..  ...    ...    ...   \n",
      "861                        Giles, Mr. Frederick Edward   0   21      1      0   \n",
      "862  Swift, Mrs. Frederick Joel (Margaret Welles Ba...   1   48      0      0   \n",
      "863                  Sage, Miss. Dorothy Edith \"Dolly\"   1  NaN      8      2   \n",
      "864                             Gill, Mr. John William   0   24      0      0   \n",
      "865                           Bystrom, Mrs. (Karolina)   1   42      0      0   \n",
      "866                       Duran y More, Miss. Asuncion   1   27      1      0   \n",
      "867               Roebling, Mr. Washington Augustus II   0   31      0      0   \n",
      "868                        van Melkebeke, Mr. Philemon   0  NaN      0      0   \n",
      "869                    Johnson, Master. Harold Theodor   0    4      1      1   \n",
      "870                                  Balkic, Mr. Cerin   0   26      0      0   \n",
      "871   Beckwith, Mrs. Richard Leonard (Sallie Monypeny)   1   47      1      1   \n",
      "872                           Carlsson, Mr. Frans Olof   0   33      0      0   \n",
      "873                        Vander Cruyssen, Mr. Victor   0   47      0      0   \n",
      "874              Abelson, Mrs. Samuel (Hannah Wizosky)   1   28      1      0   \n",
      "875                   Najib, Miss. Adele Kiamie \"Jane\"   1   15      0      0   \n",
      "876                      Gustafsson, Mr. Alfred Ossian   0   20      0      0   \n",
      "877                               Petroff, Mr. Nedelio   0   19      0      0   \n",
      "878                                 Laleff, Mr. Kristo   0  NaN      0      0   \n",
      "879      Potter, Mrs. Thomas Jr (Lily Alexenia Wilson)   1   56      0      1   \n",
      "880       Shelley, Mrs. William (Imanita Parrish Hall)   1   25      0      1   \n",
      "881                                 Markun, Mr. Johann   0   33      0      0   \n",
      "882                       Dahlberg, Miss. Gerda Ulrika   1   22      0      0   \n",
      "883                      Banfield, Mr. Frederick James   0   28      0      0   \n",
      "884                             Sutehall, Mr. Henry Jr   0   25      0      0   \n",
      "885               Rice, Mrs. William (Margaret Norton)   1   39      0      5   \n",
      "886                              Montvila, Rev. Juozas   0   27      0      0   \n",
      "887                       Graham, Miss. Margaret Edith   1   19      0      0   \n",
      "888           Johnston, Miss. Catherine Helen \"Carrie\"   1  NaN      1      2   \n",
      "889                              Behr, Mr. Karl Howell   0   26      0      0   \n",
      "890                                Dooley, Mr. Patrick   0   32      0      0   \n",
      "\n",
      "               Ticket      Fare        Cabin Embarked  Child  \n",
      "0           A/5 21171    7.2500          NaN        0      0  \n",
      "1            PC 17599   71.2833          C85        1      0  \n",
      "2    STON/O2. 3101282    7.9250          NaN        0      0  \n",
      "3              113803   53.1000         C123        0      0  \n",
      "4              373450    8.0500          NaN        0      0  \n",
      "5              330877    8.4583          NaN        2    NaN  \n",
      "6               17463   51.8625          E46        0      0  \n",
      "7              349909   21.0750          NaN        0      1  \n",
      "8              347742   11.1333          NaN        0      0  \n",
      "9              237736   30.0708          NaN        1      1  \n",
      "10            PP 9549   16.7000           G6        0      1  \n",
      "11             113783   26.5500         C103        0      0  \n",
      "12          A/5. 2151    8.0500          NaN        0      0  \n",
      "13             347082   31.2750          NaN        0      0  \n",
      "14             350406    7.8542          NaN        0      1  \n",
      "15             248706   16.0000          NaN        0      0  \n",
      "16             382652   29.1250          NaN        2      1  \n",
      "17             244373   13.0000          NaN        0    NaN  \n",
      "18             345763   18.0000          NaN        0      0  \n",
      "19               2649    7.2250          NaN        1    NaN  \n",
      "20             239865   26.0000          NaN        0      0  \n",
      "21             248698   13.0000          D56        0      0  \n",
      "22             330923    8.0292          NaN        2      1  \n",
      "23             113788   35.5000           A6        0      0  \n",
      "24             349909   21.0750          NaN        0      1  \n",
      "25             347077   31.3875          NaN        0      0  \n",
      "26               2631    7.2250          NaN        1    NaN  \n",
      "27              19950  263.0000  C23 C25 C27        0      0  \n",
      "28             330959    7.8792          NaN        2    NaN  \n",
      "29             349216    7.8958          NaN        0    NaN  \n",
      "..                ...       ...          ...      ...    ...  \n",
      "861             28134   11.5000          NaN        0      0  \n",
      "862             17466   25.9292          D17        0      0  \n",
      "863          CA. 2343   69.5500          NaN        0    NaN  \n",
      "864            233866   13.0000          NaN        0      0  \n",
      "865            236852   13.0000          NaN        0      0  \n",
      "866     SC/PARIS 2149   13.8583          NaN        1      0  \n",
      "867          PC 17590   50.4958          A24        0      0  \n",
      "868            345777    9.5000          NaN        0    NaN  \n",
      "869            347742   11.1333          NaN        0      1  \n",
      "870            349248    7.8958          NaN        0      0  \n",
      "871             11751   52.5542          D35        0      0  \n",
      "872               695    5.0000  B51 B53 B55        0      0  \n",
      "873            345765    9.0000          NaN        0      0  \n",
      "874         P/PP 3381   24.0000          NaN        1      0  \n",
      "875              2667    7.2250          NaN        1      1  \n",
      "876              7534    9.8458          NaN        0      0  \n",
      "877            349212    7.8958          NaN        0      0  \n",
      "878            349217    7.8958          NaN        0    NaN  \n",
      "879             11767   83.1583          C50        1      0  \n",
      "880            230433   26.0000          NaN        0      0  \n",
      "881            349257    7.8958          NaN        0      0  \n",
      "882              7552   10.5167          NaN        0      0  \n",
      "883  C.A./SOTON 34068   10.5000          NaN        0      0  \n",
      "884   SOTON/OQ 392076    7.0500          NaN        0      0  \n",
      "885            382652   29.1250          NaN        2      0  \n",
      "886            211536   13.0000          NaN        0      0  \n",
      "887            112053   30.0000          B42        0      0  \n",
      "888        W./C. 6607   23.4500          NaN        0    NaN  \n",
      "889            111369   30.0000         C148        1      0  \n",
      "890            370376    7.7500          NaN        2      0  \n",
      "\n",
      "[891 rows x 13 columns]\n"
     ]
    }
   ],
   "source": [
    "print(train_data)"
   ]
  },
  {
   "cell_type": "code",
   "execution_count": 50,
   "metadata": {
    "collapsed": false
   },
   "outputs": [
    {
     "data": {
      "text/html": [
       "<div style=\"max-height:1000px;max-width:1500px;overflow:auto;\">\n",
       "<table border=\"1\" class=\"dataframe\">\n",
       "  <thead>\n",
       "    <tr style=\"text-align: right;\">\n",
       "      <th></th>\n",
       "      <th>PassengerId</th>\n",
       "      <th>Survived</th>\n",
       "      <th>Pclass</th>\n",
       "      <th>Name</th>\n",
       "      <th>Sex</th>\n",
       "      <th>Age</th>\n",
       "      <th>SibSp</th>\n",
       "      <th>Parch</th>\n",
       "      <th>Ticket</th>\n",
       "      <th>Fare</th>\n",
       "      <th>Cabin</th>\n",
       "      <th>Embarked</th>\n",
       "      <th>Child</th>\n",
       "    </tr>\n",
       "  </thead>\n",
       "  <tbody>\n",
       "    <tr>\n",
       "      <th>0  </th>\n",
       "      <td>   1</td>\n",
       "      <td> 0</td>\n",
       "      <td> 3</td>\n",
       "      <td>                           Braund, Mr. Owen Harris</td>\n",
       "      <td> 0</td>\n",
       "      <td> 22</td>\n",
       "      <td> 1</td>\n",
       "      <td> 0</td>\n",
       "      <td>        A/5 21171</td>\n",
       "      <td>   7.2500</td>\n",
       "      <td>         NaN</td>\n",
       "      <td> 0</td>\n",
       "      <td>  0</td>\n",
       "    </tr>\n",
       "    <tr>\n",
       "      <th>1  </th>\n",
       "      <td>   2</td>\n",
       "      <td> 1</td>\n",
       "      <td> 1</td>\n",
       "      <td> Cumings, Mrs. John Bradley (Florence Briggs Th...</td>\n",
       "      <td> 1</td>\n",
       "      <td> 38</td>\n",
       "      <td> 1</td>\n",
       "      <td> 0</td>\n",
       "      <td>         PC 17599</td>\n",
       "      <td>  71.2833</td>\n",
       "      <td>         C85</td>\n",
       "      <td> 1</td>\n",
       "      <td>  0</td>\n",
       "    </tr>\n",
       "    <tr>\n",
       "      <th>2  </th>\n",
       "      <td>   3</td>\n",
       "      <td> 1</td>\n",
       "      <td> 3</td>\n",
       "      <td>                            Heikkinen, Miss. Laina</td>\n",
       "      <td> 1</td>\n",
       "      <td> 26</td>\n",
       "      <td> 0</td>\n",
       "      <td> 0</td>\n",
       "      <td> STON/O2. 3101282</td>\n",
       "      <td>   7.9250</td>\n",
       "      <td>         NaN</td>\n",
       "      <td> 0</td>\n",
       "      <td>  0</td>\n",
       "    </tr>\n",
       "    <tr>\n",
       "      <th>3  </th>\n",
       "      <td>   4</td>\n",
       "      <td> 1</td>\n",
       "      <td> 1</td>\n",
       "      <td>      Futrelle, Mrs. Jacques Heath (Lily May Peel)</td>\n",
       "      <td> 1</td>\n",
       "      <td> 35</td>\n",
       "      <td> 1</td>\n",
       "      <td> 0</td>\n",
       "      <td>           113803</td>\n",
       "      <td>  53.1000</td>\n",
       "      <td>        C123</td>\n",
       "      <td> 0</td>\n",
       "      <td>  0</td>\n",
       "    </tr>\n",
       "    <tr>\n",
       "      <th>4  </th>\n",
       "      <td>   5</td>\n",
       "      <td> 0</td>\n",
       "      <td> 3</td>\n",
       "      <td>                          Allen, Mr. William Henry</td>\n",
       "      <td> 0</td>\n",
       "      <td> 35</td>\n",
       "      <td> 0</td>\n",
       "      <td> 0</td>\n",
       "      <td>           373450</td>\n",
       "      <td>   8.0500</td>\n",
       "      <td>         NaN</td>\n",
       "      <td> 0</td>\n",
       "      <td>  0</td>\n",
       "    </tr>\n",
       "    <tr>\n",
       "      <th>5  </th>\n",
       "      <td>   6</td>\n",
       "      <td> 0</td>\n",
       "      <td> 3</td>\n",
       "      <td>                                  Moran, Mr. James</td>\n",
       "      <td> 0</td>\n",
       "      <td>NaN</td>\n",
       "      <td> 0</td>\n",
       "      <td> 0</td>\n",
       "      <td>           330877</td>\n",
       "      <td>   8.4583</td>\n",
       "      <td>         NaN</td>\n",
       "      <td> 2</td>\n",
       "      <td>NaN</td>\n",
       "    </tr>\n",
       "    <tr>\n",
       "      <th>6  </th>\n",
       "      <td>   7</td>\n",
       "      <td> 0</td>\n",
       "      <td> 1</td>\n",
       "      <td>                           McCarthy, Mr. Timothy J</td>\n",
       "      <td> 0</td>\n",
       "      <td> 54</td>\n",
       "      <td> 0</td>\n",
       "      <td> 0</td>\n",
       "      <td>            17463</td>\n",
       "      <td>  51.8625</td>\n",
       "      <td>         E46</td>\n",
       "      <td> 0</td>\n",
       "      <td>  0</td>\n",
       "    </tr>\n",
       "    <tr>\n",
       "      <th>7  </th>\n",
       "      <td>   8</td>\n",
       "      <td> 0</td>\n",
       "      <td> 3</td>\n",
       "      <td>                    Palsson, Master. Gosta Leonard</td>\n",
       "      <td> 0</td>\n",
       "      <td>  2</td>\n",
       "      <td> 3</td>\n",
       "      <td> 1</td>\n",
       "      <td>           349909</td>\n",
       "      <td>  21.0750</td>\n",
       "      <td>         NaN</td>\n",
       "      <td> 0</td>\n",
       "      <td>  1</td>\n",
       "    </tr>\n",
       "    <tr>\n",
       "      <th>8  </th>\n",
       "      <td>   9</td>\n",
       "      <td> 1</td>\n",
       "      <td> 3</td>\n",
       "      <td> Johnson, Mrs. Oscar W (Elisabeth Vilhelmina Berg)</td>\n",
       "      <td> 1</td>\n",
       "      <td> 27</td>\n",
       "      <td> 0</td>\n",
       "      <td> 2</td>\n",
       "      <td>           347742</td>\n",
       "      <td>  11.1333</td>\n",
       "      <td>         NaN</td>\n",
       "      <td> 0</td>\n",
       "      <td>  0</td>\n",
       "    </tr>\n",
       "    <tr>\n",
       "      <th>9  </th>\n",
       "      <td>  10</td>\n",
       "      <td> 1</td>\n",
       "      <td> 2</td>\n",
       "      <td>               Nasser, Mrs. Nicholas (Adele Achem)</td>\n",
       "      <td> 1</td>\n",
       "      <td> 14</td>\n",
       "      <td> 1</td>\n",
       "      <td> 0</td>\n",
       "      <td>           237736</td>\n",
       "      <td>  30.0708</td>\n",
       "      <td>         NaN</td>\n",
       "      <td> 1</td>\n",
       "      <td>  1</td>\n",
       "    </tr>\n",
       "    <tr>\n",
       "      <th>10 </th>\n",
       "      <td>  11</td>\n",
       "      <td> 1</td>\n",
       "      <td> 3</td>\n",
       "      <td>                   Sandstrom, Miss. Marguerite Rut</td>\n",
       "      <td> 1</td>\n",
       "      <td>  4</td>\n",
       "      <td> 1</td>\n",
       "      <td> 1</td>\n",
       "      <td>          PP 9549</td>\n",
       "      <td>  16.7000</td>\n",
       "      <td>          G6</td>\n",
       "      <td> 0</td>\n",
       "      <td>  1</td>\n",
       "    </tr>\n",
       "    <tr>\n",
       "      <th>11 </th>\n",
       "      <td>  12</td>\n",
       "      <td> 1</td>\n",
       "      <td> 1</td>\n",
       "      <td>                          Bonnell, Miss. Elizabeth</td>\n",
       "      <td> 1</td>\n",
       "      <td> 58</td>\n",
       "      <td> 0</td>\n",
       "      <td> 0</td>\n",
       "      <td>           113783</td>\n",
       "      <td>  26.5500</td>\n",
       "      <td>        C103</td>\n",
       "      <td> 0</td>\n",
       "      <td>  0</td>\n",
       "    </tr>\n",
       "    <tr>\n",
       "      <th>12 </th>\n",
       "      <td>  13</td>\n",
       "      <td> 0</td>\n",
       "      <td> 3</td>\n",
       "      <td>                    Saundercock, Mr. William Henry</td>\n",
       "      <td> 0</td>\n",
       "      <td> 20</td>\n",
       "      <td> 0</td>\n",
       "      <td> 0</td>\n",
       "      <td>        A/5. 2151</td>\n",
       "      <td>   8.0500</td>\n",
       "      <td>         NaN</td>\n",
       "      <td> 0</td>\n",
       "      <td>  0</td>\n",
       "    </tr>\n",
       "    <tr>\n",
       "      <th>13 </th>\n",
       "      <td>  14</td>\n",
       "      <td> 0</td>\n",
       "      <td> 3</td>\n",
       "      <td>                       Andersson, Mr. Anders Johan</td>\n",
       "      <td> 0</td>\n",
       "      <td> 39</td>\n",
       "      <td> 1</td>\n",
       "      <td> 5</td>\n",
       "      <td>           347082</td>\n",
       "      <td>  31.2750</td>\n",
       "      <td>         NaN</td>\n",
       "      <td> 0</td>\n",
       "      <td>  0</td>\n",
       "    </tr>\n",
       "    <tr>\n",
       "      <th>14 </th>\n",
       "      <td>  15</td>\n",
       "      <td> 0</td>\n",
       "      <td> 3</td>\n",
       "      <td>              Vestrom, Miss. Hulda Amanda Adolfina</td>\n",
       "      <td> 1</td>\n",
       "      <td> 14</td>\n",
       "      <td> 0</td>\n",
       "      <td> 0</td>\n",
       "      <td>           350406</td>\n",
       "      <td>   7.8542</td>\n",
       "      <td>         NaN</td>\n",
       "      <td> 0</td>\n",
       "      <td>  1</td>\n",
       "    </tr>\n",
       "    <tr>\n",
       "      <th>15 </th>\n",
       "      <td>  16</td>\n",
       "      <td> 1</td>\n",
       "      <td> 2</td>\n",
       "      <td>                  Hewlett, Mrs. (Mary D Kingcome) </td>\n",
       "      <td> 1</td>\n",
       "      <td> 55</td>\n",
       "      <td> 0</td>\n",
       "      <td> 0</td>\n",
       "      <td>           248706</td>\n",
       "      <td>  16.0000</td>\n",
       "      <td>         NaN</td>\n",
       "      <td> 0</td>\n",
       "      <td>  0</td>\n",
       "    </tr>\n",
       "    <tr>\n",
       "      <th>16 </th>\n",
       "      <td>  17</td>\n",
       "      <td> 0</td>\n",
       "      <td> 3</td>\n",
       "      <td>                              Rice, Master. Eugene</td>\n",
       "      <td> 0</td>\n",
       "      <td>  2</td>\n",
       "      <td> 4</td>\n",
       "      <td> 1</td>\n",
       "      <td>           382652</td>\n",
       "      <td>  29.1250</td>\n",
       "      <td>         NaN</td>\n",
       "      <td> 2</td>\n",
       "      <td>  1</td>\n",
       "    </tr>\n",
       "    <tr>\n",
       "      <th>17 </th>\n",
       "      <td>  18</td>\n",
       "      <td> 1</td>\n",
       "      <td> 2</td>\n",
       "      <td>                      Williams, Mr. Charles Eugene</td>\n",
       "      <td> 0</td>\n",
       "      <td>NaN</td>\n",
       "      <td> 0</td>\n",
       "      <td> 0</td>\n",
       "      <td>           244373</td>\n",
       "      <td>  13.0000</td>\n",
       "      <td>         NaN</td>\n",
       "      <td> 0</td>\n",
       "      <td>NaN</td>\n",
       "    </tr>\n",
       "    <tr>\n",
       "      <th>18 </th>\n",
       "      <td>  19</td>\n",
       "      <td> 0</td>\n",
       "      <td> 3</td>\n",
       "      <td> Vander Planke, Mrs. Julius (Emelia Maria Vande...</td>\n",
       "      <td> 1</td>\n",
       "      <td> 31</td>\n",
       "      <td> 1</td>\n",
       "      <td> 0</td>\n",
       "      <td>           345763</td>\n",
       "      <td>  18.0000</td>\n",
       "      <td>         NaN</td>\n",
       "      <td> 0</td>\n",
       "      <td>  0</td>\n",
       "    </tr>\n",
       "    <tr>\n",
       "      <th>19 </th>\n",
       "      <td>  20</td>\n",
       "      <td> 1</td>\n",
       "      <td> 3</td>\n",
       "      <td>                           Masselmani, Mrs. Fatima</td>\n",
       "      <td> 1</td>\n",
       "      <td>NaN</td>\n",
       "      <td> 0</td>\n",
       "      <td> 0</td>\n",
       "      <td>             2649</td>\n",
       "      <td>   7.2250</td>\n",
       "      <td>         NaN</td>\n",
       "      <td> 1</td>\n",
       "      <td>NaN</td>\n",
       "    </tr>\n",
       "    <tr>\n",
       "      <th>20 </th>\n",
       "      <td>  21</td>\n",
       "      <td> 0</td>\n",
       "      <td> 2</td>\n",
       "      <td>                              Fynney, Mr. Joseph J</td>\n",
       "      <td> 0</td>\n",
       "      <td> 35</td>\n",
       "      <td> 0</td>\n",
       "      <td> 0</td>\n",
       "      <td>           239865</td>\n",
       "      <td>  26.0000</td>\n",
       "      <td>         NaN</td>\n",
       "      <td> 0</td>\n",
       "      <td>  0</td>\n",
       "    </tr>\n",
       "    <tr>\n",
       "      <th>21 </th>\n",
       "      <td>  22</td>\n",
       "      <td> 1</td>\n",
       "      <td> 2</td>\n",
       "      <td>                             Beesley, Mr. Lawrence</td>\n",
       "      <td> 0</td>\n",
       "      <td> 34</td>\n",
       "      <td> 0</td>\n",
       "      <td> 0</td>\n",
       "      <td>           248698</td>\n",
       "      <td>  13.0000</td>\n",
       "      <td>         D56</td>\n",
       "      <td> 0</td>\n",
       "      <td>  0</td>\n",
       "    </tr>\n",
       "    <tr>\n",
       "      <th>22 </th>\n",
       "      <td>  23</td>\n",
       "      <td> 1</td>\n",
       "      <td> 3</td>\n",
       "      <td>                       McGowan, Miss. Anna \"Annie\"</td>\n",
       "      <td> 1</td>\n",
       "      <td> 15</td>\n",
       "      <td> 0</td>\n",
       "      <td> 0</td>\n",
       "      <td>           330923</td>\n",
       "      <td>   8.0292</td>\n",
       "      <td>         NaN</td>\n",
       "      <td> 2</td>\n",
       "      <td>  1</td>\n",
       "    </tr>\n",
       "    <tr>\n",
       "      <th>23 </th>\n",
       "      <td>  24</td>\n",
       "      <td> 1</td>\n",
       "      <td> 1</td>\n",
       "      <td>                      Sloper, Mr. William Thompson</td>\n",
       "      <td> 0</td>\n",
       "      <td> 28</td>\n",
       "      <td> 0</td>\n",
       "      <td> 0</td>\n",
       "      <td>           113788</td>\n",
       "      <td>  35.5000</td>\n",
       "      <td>          A6</td>\n",
       "      <td> 0</td>\n",
       "      <td>  0</td>\n",
       "    </tr>\n",
       "    <tr>\n",
       "      <th>24 </th>\n",
       "      <td>  25</td>\n",
       "      <td> 0</td>\n",
       "      <td> 3</td>\n",
       "      <td>                     Palsson, Miss. Torborg Danira</td>\n",
       "      <td> 1</td>\n",
       "      <td>  8</td>\n",
       "      <td> 3</td>\n",
       "      <td> 1</td>\n",
       "      <td>           349909</td>\n",
       "      <td>  21.0750</td>\n",
       "      <td>         NaN</td>\n",
       "      <td> 0</td>\n",
       "      <td>  1</td>\n",
       "    </tr>\n",
       "    <tr>\n",
       "      <th>25 </th>\n",
       "      <td>  26</td>\n",
       "      <td> 1</td>\n",
       "      <td> 3</td>\n",
       "      <td> Asplund, Mrs. Carl Oscar (Selma Augusta Emilia...</td>\n",
       "      <td> 1</td>\n",
       "      <td> 38</td>\n",
       "      <td> 1</td>\n",
       "      <td> 5</td>\n",
       "      <td>           347077</td>\n",
       "      <td>  31.3875</td>\n",
       "      <td>         NaN</td>\n",
       "      <td> 0</td>\n",
       "      <td>  0</td>\n",
       "    </tr>\n",
       "    <tr>\n",
       "      <th>26 </th>\n",
       "      <td>  27</td>\n",
       "      <td> 0</td>\n",
       "      <td> 3</td>\n",
       "      <td>                           Emir, Mr. Farred Chehab</td>\n",
       "      <td> 0</td>\n",
       "      <td>NaN</td>\n",
       "      <td> 0</td>\n",
       "      <td> 0</td>\n",
       "      <td>             2631</td>\n",
       "      <td>   7.2250</td>\n",
       "      <td>         NaN</td>\n",
       "      <td> 1</td>\n",
       "      <td>NaN</td>\n",
       "    </tr>\n",
       "    <tr>\n",
       "      <th>27 </th>\n",
       "      <td>  28</td>\n",
       "      <td> 0</td>\n",
       "      <td> 1</td>\n",
       "      <td>                    Fortune, Mr. Charles Alexander</td>\n",
       "      <td> 0</td>\n",
       "      <td> 19</td>\n",
       "      <td> 3</td>\n",
       "      <td> 2</td>\n",
       "      <td>            19950</td>\n",
       "      <td> 263.0000</td>\n",
       "      <td> C23 C25 C27</td>\n",
       "      <td> 0</td>\n",
       "      <td>  0</td>\n",
       "    </tr>\n",
       "    <tr>\n",
       "      <th>28 </th>\n",
       "      <td>  29</td>\n",
       "      <td> 1</td>\n",
       "      <td> 3</td>\n",
       "      <td>                     O'Dwyer, Miss. Ellen \"Nellie\"</td>\n",
       "      <td> 1</td>\n",
       "      <td>NaN</td>\n",
       "      <td> 0</td>\n",
       "      <td> 0</td>\n",
       "      <td>           330959</td>\n",
       "      <td>   7.8792</td>\n",
       "      <td>         NaN</td>\n",
       "      <td> 2</td>\n",
       "      <td>NaN</td>\n",
       "    </tr>\n",
       "    <tr>\n",
       "      <th>29 </th>\n",
       "      <td>  30</td>\n",
       "      <td> 0</td>\n",
       "      <td> 3</td>\n",
       "      <td>                               Todoroff, Mr. Lalio</td>\n",
       "      <td> 0</td>\n",
       "      <td>NaN</td>\n",
       "      <td> 0</td>\n",
       "      <td> 0</td>\n",
       "      <td>           349216</td>\n",
       "      <td>   7.8958</td>\n",
       "      <td>         NaN</td>\n",
       "      <td> 0</td>\n",
       "      <td>NaN</td>\n",
       "    </tr>\n",
       "    <tr>\n",
       "      <th>...</th>\n",
       "      <td>...</td>\n",
       "      <td>...</td>\n",
       "      <td>...</td>\n",
       "      <td>...</td>\n",
       "      <td>...</td>\n",
       "      <td>...</td>\n",
       "      <td>...</td>\n",
       "      <td>...</td>\n",
       "      <td>...</td>\n",
       "      <td>...</td>\n",
       "      <td>...</td>\n",
       "      <td>...</td>\n",
       "      <td>...</td>\n",
       "    </tr>\n",
       "    <tr>\n",
       "      <th>861</th>\n",
       "      <td> 862</td>\n",
       "      <td> 0</td>\n",
       "      <td> 2</td>\n",
       "      <td>                       Giles, Mr. Frederick Edward</td>\n",
       "      <td> 0</td>\n",
       "      <td> 21</td>\n",
       "      <td> 1</td>\n",
       "      <td> 0</td>\n",
       "      <td>            28134</td>\n",
       "      <td>  11.5000</td>\n",
       "      <td>         NaN</td>\n",
       "      <td> 0</td>\n",
       "      <td>  0</td>\n",
       "    </tr>\n",
       "    <tr>\n",
       "      <th>862</th>\n",
       "      <td> 863</td>\n",
       "      <td> 1</td>\n",
       "      <td> 1</td>\n",
       "      <td> Swift, Mrs. Frederick Joel (Margaret Welles Ba...</td>\n",
       "      <td> 1</td>\n",
       "      <td> 48</td>\n",
       "      <td> 0</td>\n",
       "      <td> 0</td>\n",
       "      <td>            17466</td>\n",
       "      <td>  25.9292</td>\n",
       "      <td>         D17</td>\n",
       "      <td> 0</td>\n",
       "      <td>  0</td>\n",
       "    </tr>\n",
       "    <tr>\n",
       "      <th>863</th>\n",
       "      <td> 864</td>\n",
       "      <td> 0</td>\n",
       "      <td> 3</td>\n",
       "      <td>                 Sage, Miss. Dorothy Edith \"Dolly\"</td>\n",
       "      <td> 1</td>\n",
       "      <td>NaN</td>\n",
       "      <td> 8</td>\n",
       "      <td> 2</td>\n",
       "      <td>         CA. 2343</td>\n",
       "      <td>  69.5500</td>\n",
       "      <td>         NaN</td>\n",
       "      <td> 0</td>\n",
       "      <td>NaN</td>\n",
       "    </tr>\n",
       "    <tr>\n",
       "      <th>864</th>\n",
       "      <td> 865</td>\n",
       "      <td> 0</td>\n",
       "      <td> 2</td>\n",
       "      <td>                            Gill, Mr. John William</td>\n",
       "      <td> 0</td>\n",
       "      <td> 24</td>\n",
       "      <td> 0</td>\n",
       "      <td> 0</td>\n",
       "      <td>           233866</td>\n",
       "      <td>  13.0000</td>\n",
       "      <td>         NaN</td>\n",
       "      <td> 0</td>\n",
       "      <td>  0</td>\n",
       "    </tr>\n",
       "    <tr>\n",
       "      <th>865</th>\n",
       "      <td> 866</td>\n",
       "      <td> 1</td>\n",
       "      <td> 2</td>\n",
       "      <td>                          Bystrom, Mrs. (Karolina)</td>\n",
       "      <td> 1</td>\n",
       "      <td> 42</td>\n",
       "      <td> 0</td>\n",
       "      <td> 0</td>\n",
       "      <td>           236852</td>\n",
       "      <td>  13.0000</td>\n",
       "      <td>         NaN</td>\n",
       "      <td> 0</td>\n",
       "      <td>  0</td>\n",
       "    </tr>\n",
       "    <tr>\n",
       "      <th>866</th>\n",
       "      <td> 867</td>\n",
       "      <td> 1</td>\n",
       "      <td> 2</td>\n",
       "      <td>                      Duran y More, Miss. Asuncion</td>\n",
       "      <td> 1</td>\n",
       "      <td> 27</td>\n",
       "      <td> 1</td>\n",
       "      <td> 0</td>\n",
       "      <td>    SC/PARIS 2149</td>\n",
       "      <td>  13.8583</td>\n",
       "      <td>         NaN</td>\n",
       "      <td> 1</td>\n",
       "      <td>  0</td>\n",
       "    </tr>\n",
       "    <tr>\n",
       "      <th>867</th>\n",
       "      <td> 868</td>\n",
       "      <td> 0</td>\n",
       "      <td> 1</td>\n",
       "      <td>              Roebling, Mr. Washington Augustus II</td>\n",
       "      <td> 0</td>\n",
       "      <td> 31</td>\n",
       "      <td> 0</td>\n",
       "      <td> 0</td>\n",
       "      <td>         PC 17590</td>\n",
       "      <td>  50.4958</td>\n",
       "      <td>         A24</td>\n",
       "      <td> 0</td>\n",
       "      <td>  0</td>\n",
       "    </tr>\n",
       "    <tr>\n",
       "      <th>868</th>\n",
       "      <td> 869</td>\n",
       "      <td> 0</td>\n",
       "      <td> 3</td>\n",
       "      <td>                       van Melkebeke, Mr. Philemon</td>\n",
       "      <td> 0</td>\n",
       "      <td>NaN</td>\n",
       "      <td> 0</td>\n",
       "      <td> 0</td>\n",
       "      <td>           345777</td>\n",
       "      <td>   9.5000</td>\n",
       "      <td>         NaN</td>\n",
       "      <td> 0</td>\n",
       "      <td>NaN</td>\n",
       "    </tr>\n",
       "    <tr>\n",
       "      <th>869</th>\n",
       "      <td> 870</td>\n",
       "      <td> 1</td>\n",
       "      <td> 3</td>\n",
       "      <td>                   Johnson, Master. Harold Theodor</td>\n",
       "      <td> 0</td>\n",
       "      <td>  4</td>\n",
       "      <td> 1</td>\n",
       "      <td> 1</td>\n",
       "      <td>           347742</td>\n",
       "      <td>  11.1333</td>\n",
       "      <td>         NaN</td>\n",
       "      <td> 0</td>\n",
       "      <td>  1</td>\n",
       "    </tr>\n",
       "    <tr>\n",
       "      <th>870</th>\n",
       "      <td> 871</td>\n",
       "      <td> 0</td>\n",
       "      <td> 3</td>\n",
       "      <td>                                 Balkic, Mr. Cerin</td>\n",
       "      <td> 0</td>\n",
       "      <td> 26</td>\n",
       "      <td> 0</td>\n",
       "      <td> 0</td>\n",
       "      <td>           349248</td>\n",
       "      <td>   7.8958</td>\n",
       "      <td>         NaN</td>\n",
       "      <td> 0</td>\n",
       "      <td>  0</td>\n",
       "    </tr>\n",
       "    <tr>\n",
       "      <th>871</th>\n",
       "      <td> 872</td>\n",
       "      <td> 1</td>\n",
       "      <td> 1</td>\n",
       "      <td>  Beckwith, Mrs. Richard Leonard (Sallie Monypeny)</td>\n",
       "      <td> 1</td>\n",
       "      <td> 47</td>\n",
       "      <td> 1</td>\n",
       "      <td> 1</td>\n",
       "      <td>            11751</td>\n",
       "      <td>  52.5542</td>\n",
       "      <td>         D35</td>\n",
       "      <td> 0</td>\n",
       "      <td>  0</td>\n",
       "    </tr>\n",
       "    <tr>\n",
       "      <th>872</th>\n",
       "      <td> 873</td>\n",
       "      <td> 0</td>\n",
       "      <td> 1</td>\n",
       "      <td>                          Carlsson, Mr. Frans Olof</td>\n",
       "      <td> 0</td>\n",
       "      <td> 33</td>\n",
       "      <td> 0</td>\n",
       "      <td> 0</td>\n",
       "      <td>              695</td>\n",
       "      <td>   5.0000</td>\n",
       "      <td> B51 B53 B55</td>\n",
       "      <td> 0</td>\n",
       "      <td>  0</td>\n",
       "    </tr>\n",
       "    <tr>\n",
       "      <th>873</th>\n",
       "      <td> 874</td>\n",
       "      <td> 0</td>\n",
       "      <td> 3</td>\n",
       "      <td>                       Vander Cruyssen, Mr. Victor</td>\n",
       "      <td> 0</td>\n",
       "      <td> 47</td>\n",
       "      <td> 0</td>\n",
       "      <td> 0</td>\n",
       "      <td>           345765</td>\n",
       "      <td>   9.0000</td>\n",
       "      <td>         NaN</td>\n",
       "      <td> 0</td>\n",
       "      <td>  0</td>\n",
       "    </tr>\n",
       "    <tr>\n",
       "      <th>874</th>\n",
       "      <td> 875</td>\n",
       "      <td> 1</td>\n",
       "      <td> 2</td>\n",
       "      <td>             Abelson, Mrs. Samuel (Hannah Wizosky)</td>\n",
       "      <td> 1</td>\n",
       "      <td> 28</td>\n",
       "      <td> 1</td>\n",
       "      <td> 0</td>\n",
       "      <td>        P/PP 3381</td>\n",
       "      <td>  24.0000</td>\n",
       "      <td>         NaN</td>\n",
       "      <td> 1</td>\n",
       "      <td>  0</td>\n",
       "    </tr>\n",
       "    <tr>\n",
       "      <th>875</th>\n",
       "      <td> 876</td>\n",
       "      <td> 1</td>\n",
       "      <td> 3</td>\n",
       "      <td>                  Najib, Miss. Adele Kiamie \"Jane\"</td>\n",
       "      <td> 1</td>\n",
       "      <td> 15</td>\n",
       "      <td> 0</td>\n",
       "      <td> 0</td>\n",
       "      <td>             2667</td>\n",
       "      <td>   7.2250</td>\n",
       "      <td>         NaN</td>\n",
       "      <td> 1</td>\n",
       "      <td>  1</td>\n",
       "    </tr>\n",
       "    <tr>\n",
       "      <th>876</th>\n",
       "      <td> 877</td>\n",
       "      <td> 0</td>\n",
       "      <td> 3</td>\n",
       "      <td>                     Gustafsson, Mr. Alfred Ossian</td>\n",
       "      <td> 0</td>\n",
       "      <td> 20</td>\n",
       "      <td> 0</td>\n",
       "      <td> 0</td>\n",
       "      <td>             7534</td>\n",
       "      <td>   9.8458</td>\n",
       "      <td>         NaN</td>\n",
       "      <td> 0</td>\n",
       "      <td>  0</td>\n",
       "    </tr>\n",
       "    <tr>\n",
       "      <th>877</th>\n",
       "      <td> 878</td>\n",
       "      <td> 0</td>\n",
       "      <td> 3</td>\n",
       "      <td>                              Petroff, Mr. Nedelio</td>\n",
       "      <td> 0</td>\n",
       "      <td> 19</td>\n",
       "      <td> 0</td>\n",
       "      <td> 0</td>\n",
       "      <td>           349212</td>\n",
       "      <td>   7.8958</td>\n",
       "      <td>         NaN</td>\n",
       "      <td> 0</td>\n",
       "      <td>  0</td>\n",
       "    </tr>\n",
       "    <tr>\n",
       "      <th>878</th>\n",
       "      <td> 879</td>\n",
       "      <td> 0</td>\n",
       "      <td> 3</td>\n",
       "      <td>                                Laleff, Mr. Kristo</td>\n",
       "      <td> 0</td>\n",
       "      <td>NaN</td>\n",
       "      <td> 0</td>\n",
       "      <td> 0</td>\n",
       "      <td>           349217</td>\n",
       "      <td>   7.8958</td>\n",
       "      <td>         NaN</td>\n",
       "      <td> 0</td>\n",
       "      <td>NaN</td>\n",
       "    </tr>\n",
       "    <tr>\n",
       "      <th>879</th>\n",
       "      <td> 880</td>\n",
       "      <td> 1</td>\n",
       "      <td> 1</td>\n",
       "      <td>     Potter, Mrs. Thomas Jr (Lily Alexenia Wilson)</td>\n",
       "      <td> 1</td>\n",
       "      <td> 56</td>\n",
       "      <td> 0</td>\n",
       "      <td> 1</td>\n",
       "      <td>            11767</td>\n",
       "      <td>  83.1583</td>\n",
       "      <td>         C50</td>\n",
       "      <td> 1</td>\n",
       "      <td>  0</td>\n",
       "    </tr>\n",
       "    <tr>\n",
       "      <th>880</th>\n",
       "      <td> 881</td>\n",
       "      <td> 1</td>\n",
       "      <td> 2</td>\n",
       "      <td>      Shelley, Mrs. William (Imanita Parrish Hall)</td>\n",
       "      <td> 1</td>\n",
       "      <td> 25</td>\n",
       "      <td> 0</td>\n",
       "      <td> 1</td>\n",
       "      <td>           230433</td>\n",
       "      <td>  26.0000</td>\n",
       "      <td>         NaN</td>\n",
       "      <td> 0</td>\n",
       "      <td>  0</td>\n",
       "    </tr>\n",
       "    <tr>\n",
       "      <th>881</th>\n",
       "      <td> 882</td>\n",
       "      <td> 0</td>\n",
       "      <td> 3</td>\n",
       "      <td>                                Markun, Mr. Johann</td>\n",
       "      <td> 0</td>\n",
       "      <td> 33</td>\n",
       "      <td> 0</td>\n",
       "      <td> 0</td>\n",
       "      <td>           349257</td>\n",
       "      <td>   7.8958</td>\n",
       "      <td>         NaN</td>\n",
       "      <td> 0</td>\n",
       "      <td>  0</td>\n",
       "    </tr>\n",
       "    <tr>\n",
       "      <th>882</th>\n",
       "      <td> 883</td>\n",
       "      <td> 0</td>\n",
       "      <td> 3</td>\n",
       "      <td>                      Dahlberg, Miss. Gerda Ulrika</td>\n",
       "      <td> 1</td>\n",
       "      <td> 22</td>\n",
       "      <td> 0</td>\n",
       "      <td> 0</td>\n",
       "      <td>             7552</td>\n",
       "      <td>  10.5167</td>\n",
       "      <td>         NaN</td>\n",
       "      <td> 0</td>\n",
       "      <td>  0</td>\n",
       "    </tr>\n",
       "    <tr>\n",
       "      <th>883</th>\n",
       "      <td> 884</td>\n",
       "      <td> 0</td>\n",
       "      <td> 2</td>\n",
       "      <td>                     Banfield, Mr. Frederick James</td>\n",
       "      <td> 0</td>\n",
       "      <td> 28</td>\n",
       "      <td> 0</td>\n",
       "      <td> 0</td>\n",
       "      <td> C.A./SOTON 34068</td>\n",
       "      <td>  10.5000</td>\n",
       "      <td>         NaN</td>\n",
       "      <td> 0</td>\n",
       "      <td>  0</td>\n",
       "    </tr>\n",
       "    <tr>\n",
       "      <th>884</th>\n",
       "      <td> 885</td>\n",
       "      <td> 0</td>\n",
       "      <td> 3</td>\n",
       "      <td>                            Sutehall, Mr. Henry Jr</td>\n",
       "      <td> 0</td>\n",
       "      <td> 25</td>\n",
       "      <td> 0</td>\n",
       "      <td> 0</td>\n",
       "      <td>  SOTON/OQ 392076</td>\n",
       "      <td>   7.0500</td>\n",
       "      <td>         NaN</td>\n",
       "      <td> 0</td>\n",
       "      <td>  0</td>\n",
       "    </tr>\n",
       "    <tr>\n",
       "      <th>885</th>\n",
       "      <td> 886</td>\n",
       "      <td> 0</td>\n",
       "      <td> 3</td>\n",
       "      <td>              Rice, Mrs. William (Margaret Norton)</td>\n",
       "      <td> 1</td>\n",
       "      <td> 39</td>\n",
       "      <td> 0</td>\n",
       "      <td> 5</td>\n",
       "      <td>           382652</td>\n",
       "      <td>  29.1250</td>\n",
       "      <td>         NaN</td>\n",
       "      <td> 2</td>\n",
       "      <td>  0</td>\n",
       "    </tr>\n",
       "    <tr>\n",
       "      <th>886</th>\n",
       "      <td> 887</td>\n",
       "      <td> 0</td>\n",
       "      <td> 2</td>\n",
       "      <td>                             Montvila, Rev. Juozas</td>\n",
       "      <td> 0</td>\n",
       "      <td> 27</td>\n",
       "      <td> 0</td>\n",
       "      <td> 0</td>\n",
       "      <td>           211536</td>\n",
       "      <td>  13.0000</td>\n",
       "      <td>         NaN</td>\n",
       "      <td> 0</td>\n",
       "      <td>  0</td>\n",
       "    </tr>\n",
       "    <tr>\n",
       "      <th>887</th>\n",
       "      <td> 888</td>\n",
       "      <td> 1</td>\n",
       "      <td> 1</td>\n",
       "      <td>                      Graham, Miss. Margaret Edith</td>\n",
       "      <td> 1</td>\n",
       "      <td> 19</td>\n",
       "      <td> 0</td>\n",
       "      <td> 0</td>\n",
       "      <td>           112053</td>\n",
       "      <td>  30.0000</td>\n",
       "      <td>         B42</td>\n",
       "      <td> 0</td>\n",
       "      <td>  0</td>\n",
       "    </tr>\n",
       "    <tr>\n",
       "      <th>888</th>\n",
       "      <td> 889</td>\n",
       "      <td> 0</td>\n",
       "      <td> 3</td>\n",
       "      <td>          Johnston, Miss. Catherine Helen \"Carrie\"</td>\n",
       "      <td> 1</td>\n",
       "      <td>NaN</td>\n",
       "      <td> 1</td>\n",
       "      <td> 2</td>\n",
       "      <td>       W./C. 6607</td>\n",
       "      <td>  23.4500</td>\n",
       "      <td>         NaN</td>\n",
       "      <td> 0</td>\n",
       "      <td>NaN</td>\n",
       "    </tr>\n",
       "    <tr>\n",
       "      <th>889</th>\n",
       "      <td> 890</td>\n",
       "      <td> 1</td>\n",
       "      <td> 1</td>\n",
       "      <td>                             Behr, Mr. Karl Howell</td>\n",
       "      <td> 0</td>\n",
       "      <td> 26</td>\n",
       "      <td> 0</td>\n",
       "      <td> 0</td>\n",
       "      <td>           111369</td>\n",
       "      <td>  30.0000</td>\n",
       "      <td>        C148</td>\n",
       "      <td> 1</td>\n",
       "      <td>  0</td>\n",
       "    </tr>\n",
       "    <tr>\n",
       "      <th>890</th>\n",
       "      <td> 891</td>\n",
       "      <td> 0</td>\n",
       "      <td> 3</td>\n",
       "      <td>                               Dooley, Mr. Patrick</td>\n",
       "      <td> 0</td>\n",
       "      <td> 32</td>\n",
       "      <td> 0</td>\n",
       "      <td> 0</td>\n",
       "      <td>           370376</td>\n",
       "      <td>   7.7500</td>\n",
       "      <td>         NaN</td>\n",
       "      <td> 2</td>\n",
       "      <td>  0</td>\n",
       "    </tr>\n",
       "  </tbody>\n",
       "</table>\n",
       "<p>891 rows × 13 columns</p>\n",
       "</div>"
      ],
      "text/plain": [
       "     PassengerId  Survived  Pclass  \\\n",
       "0              1         0       3   \n",
       "1              2         1       1   \n",
       "2              3         1       3   \n",
       "3              4         1       1   \n",
       "4              5         0       3   \n",
       "5              6         0       3   \n",
       "6              7         0       1   \n",
       "7              8         0       3   \n",
       "8              9         1       3   \n",
       "9             10         1       2   \n",
       "10            11         1       3   \n",
       "11            12         1       1   \n",
       "12            13         0       3   \n",
       "13            14         0       3   \n",
       "14            15         0       3   \n",
       "15            16         1       2   \n",
       "16            17         0       3   \n",
       "17            18         1       2   \n",
       "18            19         0       3   \n",
       "19            20         1       3   \n",
       "20            21         0       2   \n",
       "21            22         1       2   \n",
       "22            23         1       3   \n",
       "23            24         1       1   \n",
       "24            25         0       3   \n",
       "25            26         1       3   \n",
       "26            27         0       3   \n",
       "27            28         0       1   \n",
       "28            29         1       3   \n",
       "29            30         0       3   \n",
       "..           ...       ...     ...   \n",
       "861          862         0       2   \n",
       "862          863         1       1   \n",
       "863          864         0       3   \n",
       "864          865         0       2   \n",
       "865          866         1       2   \n",
       "866          867         1       2   \n",
       "867          868         0       1   \n",
       "868          869         0       3   \n",
       "869          870         1       3   \n",
       "870          871         0       3   \n",
       "871          872         1       1   \n",
       "872          873         0       1   \n",
       "873          874         0       3   \n",
       "874          875         1       2   \n",
       "875          876         1       3   \n",
       "876          877         0       3   \n",
       "877          878         0       3   \n",
       "878          879         0       3   \n",
       "879          880         1       1   \n",
       "880          881         1       2   \n",
       "881          882         0       3   \n",
       "882          883         0       3   \n",
       "883          884         0       2   \n",
       "884          885         0       3   \n",
       "885          886         0       3   \n",
       "886          887         0       2   \n",
       "887          888         1       1   \n",
       "888          889         0       3   \n",
       "889          890         1       1   \n",
       "890          891         0       3   \n",
       "\n",
       "                                                  Name Sex  Age  SibSp  Parch  \\\n",
       "0                              Braund, Mr. Owen Harris   0   22      1      0   \n",
       "1    Cumings, Mrs. John Bradley (Florence Briggs Th...   1   38      1      0   \n",
       "2                               Heikkinen, Miss. Laina   1   26      0      0   \n",
       "3         Futrelle, Mrs. Jacques Heath (Lily May Peel)   1   35      1      0   \n",
       "4                             Allen, Mr. William Henry   0   35      0      0   \n",
       "5                                     Moran, Mr. James   0  NaN      0      0   \n",
       "6                              McCarthy, Mr. Timothy J   0   54      0      0   \n",
       "7                       Palsson, Master. Gosta Leonard   0    2      3      1   \n",
       "8    Johnson, Mrs. Oscar W (Elisabeth Vilhelmina Berg)   1   27      0      2   \n",
       "9                  Nasser, Mrs. Nicholas (Adele Achem)   1   14      1      0   \n",
       "10                     Sandstrom, Miss. Marguerite Rut   1    4      1      1   \n",
       "11                            Bonnell, Miss. Elizabeth   1   58      0      0   \n",
       "12                      Saundercock, Mr. William Henry   0   20      0      0   \n",
       "13                         Andersson, Mr. Anders Johan   0   39      1      5   \n",
       "14                Vestrom, Miss. Hulda Amanda Adolfina   1   14      0      0   \n",
       "15                    Hewlett, Mrs. (Mary D Kingcome)    1   55      0      0   \n",
       "16                                Rice, Master. Eugene   0    2      4      1   \n",
       "17                        Williams, Mr. Charles Eugene   0  NaN      0      0   \n",
       "18   Vander Planke, Mrs. Julius (Emelia Maria Vande...   1   31      1      0   \n",
       "19                             Masselmani, Mrs. Fatima   1  NaN      0      0   \n",
       "20                                Fynney, Mr. Joseph J   0   35      0      0   \n",
       "21                               Beesley, Mr. Lawrence   0   34      0      0   \n",
       "22                         McGowan, Miss. Anna \"Annie\"   1   15      0      0   \n",
       "23                        Sloper, Mr. William Thompson   0   28      0      0   \n",
       "24                       Palsson, Miss. Torborg Danira   1    8      3      1   \n",
       "25   Asplund, Mrs. Carl Oscar (Selma Augusta Emilia...   1   38      1      5   \n",
       "26                             Emir, Mr. Farred Chehab   0  NaN      0      0   \n",
       "27                      Fortune, Mr. Charles Alexander   0   19      3      2   \n",
       "28                       O'Dwyer, Miss. Ellen \"Nellie\"   1  NaN      0      0   \n",
       "29                                 Todoroff, Mr. Lalio   0  NaN      0      0   \n",
       "..                                                 ...  ..  ...    ...    ...   \n",
       "861                        Giles, Mr. Frederick Edward   0   21      1      0   \n",
       "862  Swift, Mrs. Frederick Joel (Margaret Welles Ba...   1   48      0      0   \n",
       "863                  Sage, Miss. Dorothy Edith \"Dolly\"   1  NaN      8      2   \n",
       "864                             Gill, Mr. John William   0   24      0      0   \n",
       "865                           Bystrom, Mrs. (Karolina)   1   42      0      0   \n",
       "866                       Duran y More, Miss. Asuncion   1   27      1      0   \n",
       "867               Roebling, Mr. Washington Augustus II   0   31      0      0   \n",
       "868                        van Melkebeke, Mr. Philemon   0  NaN      0      0   \n",
       "869                    Johnson, Master. Harold Theodor   0    4      1      1   \n",
       "870                                  Balkic, Mr. Cerin   0   26      0      0   \n",
       "871   Beckwith, Mrs. Richard Leonard (Sallie Monypeny)   1   47      1      1   \n",
       "872                           Carlsson, Mr. Frans Olof   0   33      0      0   \n",
       "873                        Vander Cruyssen, Mr. Victor   0   47      0      0   \n",
       "874              Abelson, Mrs. Samuel (Hannah Wizosky)   1   28      1      0   \n",
       "875                   Najib, Miss. Adele Kiamie \"Jane\"   1   15      0      0   \n",
       "876                      Gustafsson, Mr. Alfred Ossian   0   20      0      0   \n",
       "877                               Petroff, Mr. Nedelio   0   19      0      0   \n",
       "878                                 Laleff, Mr. Kristo   0  NaN      0      0   \n",
       "879      Potter, Mrs. Thomas Jr (Lily Alexenia Wilson)   1   56      0      1   \n",
       "880       Shelley, Mrs. William (Imanita Parrish Hall)   1   25      0      1   \n",
       "881                                 Markun, Mr. Johann   0   33      0      0   \n",
       "882                       Dahlberg, Miss. Gerda Ulrika   1   22      0      0   \n",
       "883                      Banfield, Mr. Frederick James   0   28      0      0   \n",
       "884                             Sutehall, Mr. Henry Jr   0   25      0      0   \n",
       "885               Rice, Mrs. William (Margaret Norton)   1   39      0      5   \n",
       "886                              Montvila, Rev. Juozas   0   27      0      0   \n",
       "887                       Graham, Miss. Margaret Edith   1   19      0      0   \n",
       "888           Johnston, Miss. Catherine Helen \"Carrie\"   1  NaN      1      2   \n",
       "889                              Behr, Mr. Karl Howell   0   26      0      0   \n",
       "890                                Dooley, Mr. Patrick   0   32      0      0   \n",
       "\n",
       "               Ticket      Fare        Cabin Embarked  Child  \n",
       "0           A/5 21171    7.2500          NaN        0      0  \n",
       "1            PC 17599   71.2833          C85        1      0  \n",
       "2    STON/O2. 3101282    7.9250          NaN        0      0  \n",
       "3              113803   53.1000         C123        0      0  \n",
       "4              373450    8.0500          NaN        0      0  \n",
       "5              330877    8.4583          NaN        2    NaN  \n",
       "6               17463   51.8625          E46        0      0  \n",
       "7              349909   21.0750          NaN        0      1  \n",
       "8              347742   11.1333          NaN        0      0  \n",
       "9              237736   30.0708          NaN        1      1  \n",
       "10            PP 9549   16.7000           G6        0      1  \n",
       "11             113783   26.5500         C103        0      0  \n",
       "12          A/5. 2151    8.0500          NaN        0      0  \n",
       "13             347082   31.2750          NaN        0      0  \n",
       "14             350406    7.8542          NaN        0      1  \n",
       "15             248706   16.0000          NaN        0      0  \n",
       "16             382652   29.1250          NaN        2      1  \n",
       "17             244373   13.0000          NaN        0    NaN  \n",
       "18             345763   18.0000          NaN        0      0  \n",
       "19               2649    7.2250          NaN        1    NaN  \n",
       "20             239865   26.0000          NaN        0      0  \n",
       "21             248698   13.0000          D56        0      0  \n",
       "22             330923    8.0292          NaN        2      1  \n",
       "23             113788   35.5000           A6        0      0  \n",
       "24             349909   21.0750          NaN        0      1  \n",
       "25             347077   31.3875          NaN        0      0  \n",
       "26               2631    7.2250          NaN        1    NaN  \n",
       "27              19950  263.0000  C23 C25 C27        0      0  \n",
       "28             330959    7.8792          NaN        2    NaN  \n",
       "29             349216    7.8958          NaN        0    NaN  \n",
       "..                ...       ...          ...      ...    ...  \n",
       "861             28134   11.5000          NaN        0      0  \n",
       "862             17466   25.9292          D17        0      0  \n",
       "863          CA. 2343   69.5500          NaN        0    NaN  \n",
       "864            233866   13.0000          NaN        0      0  \n",
       "865            236852   13.0000          NaN        0      0  \n",
       "866     SC/PARIS 2149   13.8583          NaN        1      0  \n",
       "867          PC 17590   50.4958          A24        0      0  \n",
       "868            345777    9.5000          NaN        0    NaN  \n",
       "869            347742   11.1333          NaN        0      1  \n",
       "870            349248    7.8958          NaN        0      0  \n",
       "871             11751   52.5542          D35        0      0  \n",
       "872               695    5.0000  B51 B53 B55        0      0  \n",
       "873            345765    9.0000          NaN        0      0  \n",
       "874         P/PP 3381   24.0000          NaN        1      0  \n",
       "875              2667    7.2250          NaN        1      1  \n",
       "876              7534    9.8458          NaN        0      0  \n",
       "877            349212    7.8958          NaN        0      0  \n",
       "878            349217    7.8958          NaN        0    NaN  \n",
       "879             11767   83.1583          C50        1      0  \n",
       "880            230433   26.0000          NaN        0      0  \n",
       "881            349257    7.8958          NaN        0      0  \n",
       "882              7552   10.5167          NaN        0      0  \n",
       "883  C.A./SOTON 34068   10.5000          NaN        0      0  \n",
       "884   SOTON/OQ 392076    7.0500          NaN        0      0  \n",
       "885            382652   29.1250          NaN        2      0  \n",
       "886            211536   13.0000          NaN        0      0  \n",
       "887            112053   30.0000          B42        0      0  \n",
       "888        W./C. 6607   23.4500          NaN        0    NaN  \n",
       "889            111369   30.0000         C148        1      0  \n",
       "890            370376    7.7500          NaN        2      0  \n",
       "\n",
       "[891 rows x 13 columns]"
      ]
     },
     "execution_count": 50,
     "metadata": {},
     "output_type": "execute_result"
    }
   ],
   "source": [
    "train_data\n"
   ]
  },
  {
   "cell_type": "code",
   "execution_count": 51,
   "metadata": {
    "collapsed": false
   },
   "outputs": [
    {
     "data": {
      "text/plain": [
       "0     22\n",
       "1     38\n",
       "2     26\n",
       "3     35\n",
       "4     35\n",
       "5    NaN\n",
       "6     54\n",
       "7      2\n",
       "8     27\n",
       "9     14\n",
       "10     4\n",
       "11    58\n",
       "12    20\n",
       "13    39\n",
       "14    14\n",
       "...\n",
       "876    20\n",
       "877    19\n",
       "878   NaN\n",
       "879    56\n",
       "880    25\n",
       "881    33\n",
       "882    22\n",
       "883    28\n",
       "884    25\n",
       "885    39\n",
       "886    27\n",
       "887    19\n",
       "888   NaN\n",
       "889    26\n",
       "890    32\n",
       "Name: Age, Length: 891, dtype: float64"
      ]
     },
     "execution_count": 51,
     "metadata": {},
     "output_type": "execute_result"
    }
   ],
   "source": [
    "train_data[\"Age\"]"
   ]
  },
  {
   "cell_type": "code",
   "execution_count": 62,
   "metadata": {
    "collapsed": false
   },
   "outputs": [
    {
     "ename": "ValueError",
     "evalue": "The truth value of a Series is ambiguous. Use a.empty, a.bool(), a.item(), a.any() or a.all().",
     "output_type": "error",
     "traceback": [
      "\u001b[0;31m---------------------------------------------------------------------------\u001b[0m",
      "\u001b[0;31mValueError\u001b[0m                                Traceback (most recent call last)",
      "\u001b[0;32m<ipython-input-62-2898d86cfc07>\u001b[0m in \u001b[0;36m<module>\u001b[0;34m()\u001b[0m\n\u001b[1;32m      1\u001b[0m \u001b[0;31m#train_data[\"Age\"] = train_data[\"Age\"].fillna(float(0))\u001b[0m\u001b[0;34m\u001b[0m\u001b[0;34m\u001b[0m\u001b[0m\n\u001b[0;32m----> 2\u001b[0;31m \u001b[0;32mif\u001b[0m \u001b[0mnp\u001b[0m\u001b[0;34m.\u001b[0m\u001b[0misnan\u001b[0m\u001b[0;34m(\u001b[0m\u001b[0mtrain_data\u001b[0m\u001b[0;34m[\u001b[0m\u001b[0;34m\"Age\"\u001b[0m\u001b[0;34m]\u001b[0m\u001b[0;34m)\u001b[0m\u001b[0;34m:\u001b[0m\u001b[0;34m\u001b[0m\u001b[0m\n\u001b[0m\u001b[1;32m      3\u001b[0m     \u001b[0mtrain_data\u001b[0m\u001b[0;34m.\u001b[0m\u001b[0mloc\u001b[0m\u001b[0;34m[\u001b[0m\u001b[0mtrain_data\u001b[0m\u001b[0;34m.\u001b[0m\u001b[0mParch\u001b[0m \u001b[0;34m==\u001b[0m \u001b[0mfloat\u001b[0m\u001b[0;34m(\u001b[0m\u001b[0;36m0\u001b[0m\u001b[0;34m)\u001b[0m \u001b[0;32mand\u001b[0m \u001b[0mtrain_data\u001b[0m\u001b[0;34m.\u001b[0m\u001b[0mSibSp\u001b[0m \u001b[0;34m==\u001b[0m \u001b[0mfloat\u001b[0m\u001b[0;34m(\u001b[0m\u001b[0;36m0\u001b[0m\u001b[0;34m)\u001b[0m \u001b[0;34m,\u001b[0m \u001b[0;34m\"Age\"\u001b[0m\u001b[0;34m]\u001b[0m \u001b[0;34m=\u001b[0m \u001b[0;36m0\u001b[0m\u001b[0;34m\u001b[0m\u001b[0m\n\u001b[1;32m      4\u001b[0m \u001b[0;31m#if train_data[\"Age\"] == float(\"NaN\") and (train_data[\"Parch\"] + train_data[\"SibSp\"]) == 0:\u001b[0m\u001b[0;34m\u001b[0m\u001b[0;34m\u001b[0m\u001b[0m\n\u001b[1;32m      5\u001b[0m     \u001b[0;31m#print(\"yes\")\u001b[0m\u001b[0;34m\u001b[0m\u001b[0;34m\u001b[0m\u001b[0m\n",
      "\u001b[0;32m//anaconda/lib/python2.7/site-packages/pandas/core/generic.pyc\u001b[0m in \u001b[0;36m__nonzero__\u001b[0;34m(self)\u001b[0m\n\u001b[1;32m    696\u001b[0m         raise ValueError(\"The truth value of a {0} is ambiguous. \"\n\u001b[1;32m    697\u001b[0m                          \u001b[0;34m\"Use a.empty, a.bool(), a.item(), a.any() or a.all().\"\u001b[0m\u001b[0;34m\u001b[0m\u001b[0m\n\u001b[0;32m--> 698\u001b[0;31m                          .format(self.__class__.__name__))\n\u001b[0m\u001b[1;32m    699\u001b[0m \u001b[0;34m\u001b[0m\u001b[0m\n\u001b[1;32m    700\u001b[0m     \u001b[0m__bool__\u001b[0m \u001b[0;34m=\u001b[0m \u001b[0m__nonzero__\u001b[0m\u001b[0;34m\u001b[0m\u001b[0m\n",
      "\u001b[0;31mValueError\u001b[0m: The truth value of a Series is ambiguous. Use a.empty, a.bool(), a.item(), a.any() or a.all()."
     ]
    }
   ],
   "source": [
    "#train_data[\"Age\"] = train_data[\"Age\"].fillna(float(0))\n",
    "if np.isnan(train_data[\"Age\"]):\n",
    "    train_data.loc[train_data.Parch == float(0) and train_data.SibSp == float(0) , \"Age\"] = 0\n",
    "#if train_data[\"Age\"] == float(\"NaN\") and (train_data[\"Parch\"] + train_data[\"SibSp\"]) == 0:\n",
    "    #print(\"yes\")\n",
    "train_data[\"Age\"]"
   ]
  },
  {
   "cell_type": "code",
   "execution_count": 13,
   "metadata": {
    "collapsed": false
   },
   "outputs": [
    {
     "name": "stdout",
     "output_type": "stream",
     "text": [
      "0     22\n",
      "1     38\n",
      "2     26\n",
      "3     35\n",
      "4     35\n",
      "5     19\n",
      "6     54\n",
      "7      2\n",
      "8     27\n",
      "9     14\n",
      "10     4\n",
      "11    58\n",
      "12    20\n",
      "13    39\n",
      "14    14\n",
      "...\n",
      "876    20\n",
      "877    19\n",
      "878    19\n",
      "879    56\n",
      "880    25\n",
      "881    33\n",
      "882    22\n",
      "883    28\n",
      "884    25\n",
      "885    39\n",
      "886    27\n",
      "887    19\n",
      "888    19\n",
      "889    26\n",
      "890    32\n",
      "Name: Age, Length: 891, dtype: float64\n"
     ]
    }
   ],
   "source": [
    "for i,age in enumerate(train_data[\"Age\"]):\n",
    "    num_fam_members = train_data[\"Parch\"][i] + train_data[\"SibSp\"][i]\n",
    "    if num_fam_members == 0: \n",
    "        train_data[\"Age\"] = train_data[\"Age\"].fillna(19)\n",
    "print(train_data[\"Age\"])\n",
    "\n",
    "#could have used passengerID, which the value is the same as the index"
   ]
  },
  {
   "cell_type": "code",
   "execution_count": 9,
   "metadata": {
    "collapsed": false
   },
   "outputs": [
    {
     "ename": "SyntaxError",
     "evalue": "invalid syntax (<ipython-input-9-588587287a50>, line 1)",
     "output_type": "error",
     "traceback": [
      "\u001b[0;36m  File \u001b[0;32m\"<ipython-input-9-588587287a50>\"\u001b[0;36m, line \u001b[0;32m1\u001b[0m\n\u001b[0;31m    for ID in train_data[\"PassengerID\"]):\u001b[0m\n\u001b[0m                                       ^\u001b[0m\n\u001b[0;31mSyntaxError\u001b[0m\u001b[0;31m:\u001b[0m invalid syntax\n"
     ]
    }
   ],
   "source": [
    "for ID in train_data[\"PassengerID\"]):\n",
    "    num_fam_members = train_data[\"Parch\"][ID] + train_data[\"SibSp\"][ID]\n",
    "    if num_fam_members == 0: \n",
    "        train_data[\"Age\"] = train_data[\"Age\"].fillna(19)\n",
    "print(train_data[\"Age\"])\n"
   ]
  },
  {
   "cell_type": "code",
   "execution_count": 7,
   "metadata": {
    "collapsed": false
   },
   "outputs": [
    {
     "data": {
      "text/plain": [
       "0     22\n",
       "1     38\n",
       "2     26\n",
       "3     35\n",
       "4     35\n",
       "5     19\n",
       "6     54\n",
       "7      2\n",
       "8     27\n",
       "9     14\n",
       "10     4\n",
       "11    58\n",
       "12    20\n",
       "13    39\n",
       "14    14\n",
       "...\n",
       "876    20\n",
       "877    19\n",
       "878    19\n",
       "879    56\n",
       "880    25\n",
       "881    33\n",
       "882    22\n",
       "883    28\n",
       "884    25\n",
       "885    39\n",
       "886    27\n",
       "887    19\n",
       "888    19\n",
       "889    26\n",
       "890    32\n",
       "Name: Age, Length: 891, dtype: float64"
      ]
     },
     "execution_count": 7,
     "metadata": {},
     "output_type": "execute_result"
    }
   ],
   "source": [
    "train_data[\"Age\"]"
   ]
  },
  {
   "cell_type": "code",
   "execution_count": 78,
   "metadata": {
    "collapsed": false
   },
   "outputs": [
    {
     "ename": "KeyError",
     "evalue": "'Child'",
     "output_type": "error",
     "traceback": [
      "\u001b[0;31m---------------------------------------------------------------------------\u001b[0m",
      "\u001b[0;31mKeyError\u001b[0m                                  Traceback (most recent call last)",
      "\u001b[0;32m<ipython-input-78-f080f1e1c7c7>\u001b[0m in \u001b[0;36m<module>\u001b[0;34m()\u001b[0m\n\u001b[0;32m----> 1\u001b[0;31m \u001b[0mtrain_data\u001b[0m\u001b[0;34m[\u001b[0m\u001b[0;34m\"Child\"\u001b[0m\u001b[0;34m]\u001b[0m\u001b[0;34m\u001b[0m\u001b[0m\n\u001b[0m",
      "\u001b[0;32m//anaconda/lib/python2.7/site-packages/pandas/core/frame.pyc\u001b[0m in \u001b[0;36m__getitem__\u001b[0;34m(self, key)\u001b[0m\n\u001b[1;32m   1778\u001b[0m             \u001b[0;32mreturn\u001b[0m \u001b[0mself\u001b[0m\u001b[0;34m.\u001b[0m\u001b[0m_getitem_multilevel\u001b[0m\u001b[0;34m(\u001b[0m\u001b[0mkey\u001b[0m\u001b[0;34m)\u001b[0m\u001b[0;34m\u001b[0m\u001b[0m\n\u001b[1;32m   1779\u001b[0m         \u001b[0;32melse\u001b[0m\u001b[0;34m:\u001b[0m\u001b[0;34m\u001b[0m\u001b[0m\n\u001b[0;32m-> 1780\u001b[0;31m             \u001b[0;32mreturn\u001b[0m \u001b[0mself\u001b[0m\u001b[0;34m.\u001b[0m\u001b[0m_getitem_column\u001b[0m\u001b[0;34m(\u001b[0m\u001b[0mkey\u001b[0m\u001b[0;34m)\u001b[0m\u001b[0;34m\u001b[0m\u001b[0m\n\u001b[0m\u001b[1;32m   1781\u001b[0m \u001b[0;34m\u001b[0m\u001b[0m\n\u001b[1;32m   1782\u001b[0m     \u001b[0;32mdef\u001b[0m \u001b[0m_getitem_column\u001b[0m\u001b[0;34m(\u001b[0m\u001b[0mself\u001b[0m\u001b[0;34m,\u001b[0m \u001b[0mkey\u001b[0m\u001b[0;34m)\u001b[0m\u001b[0;34m:\u001b[0m\u001b[0;34m\u001b[0m\u001b[0m\n",
      "\u001b[0;32m//anaconda/lib/python2.7/site-packages/pandas/core/frame.pyc\u001b[0m in \u001b[0;36m_getitem_column\u001b[0;34m(self, key)\u001b[0m\n\u001b[1;32m   1785\u001b[0m         \u001b[0;31m# get column\u001b[0m\u001b[0;34m\u001b[0m\u001b[0;34m\u001b[0m\u001b[0m\n\u001b[1;32m   1786\u001b[0m         \u001b[0;32mif\u001b[0m \u001b[0mself\u001b[0m\u001b[0;34m.\u001b[0m\u001b[0mcolumns\u001b[0m\u001b[0;34m.\u001b[0m\u001b[0mis_unique\u001b[0m\u001b[0;34m:\u001b[0m\u001b[0;34m\u001b[0m\u001b[0m\n\u001b[0;32m-> 1787\u001b[0;31m             \u001b[0;32mreturn\u001b[0m \u001b[0mself\u001b[0m\u001b[0;34m.\u001b[0m\u001b[0m_get_item_cache\u001b[0m\u001b[0;34m(\u001b[0m\u001b[0mkey\u001b[0m\u001b[0;34m)\u001b[0m\u001b[0;34m\u001b[0m\u001b[0m\n\u001b[0m\u001b[1;32m   1788\u001b[0m \u001b[0;34m\u001b[0m\u001b[0m\n\u001b[1;32m   1789\u001b[0m         \u001b[0;31m# duplicate columns & possible reduce dimensionaility\u001b[0m\u001b[0;34m\u001b[0m\u001b[0;34m\u001b[0m\u001b[0m\n",
      "\u001b[0;32m//anaconda/lib/python2.7/site-packages/pandas/core/generic.pyc\u001b[0m in \u001b[0;36m_get_item_cache\u001b[0;34m(self, item)\u001b[0m\n\u001b[1;32m   1066\u001b[0m         \u001b[0mres\u001b[0m \u001b[0;34m=\u001b[0m \u001b[0mcache\u001b[0m\u001b[0;34m.\u001b[0m\u001b[0mget\u001b[0m\u001b[0;34m(\u001b[0m\u001b[0mitem\u001b[0m\u001b[0;34m)\u001b[0m\u001b[0;34m\u001b[0m\u001b[0m\n\u001b[1;32m   1067\u001b[0m         \u001b[0;32mif\u001b[0m \u001b[0mres\u001b[0m \u001b[0;32mis\u001b[0m \u001b[0mNone\u001b[0m\u001b[0;34m:\u001b[0m\u001b[0;34m\u001b[0m\u001b[0m\n\u001b[0;32m-> 1068\u001b[0;31m             \u001b[0mvalues\u001b[0m \u001b[0;34m=\u001b[0m \u001b[0mself\u001b[0m\u001b[0;34m.\u001b[0m\u001b[0m_data\u001b[0m\u001b[0;34m.\u001b[0m\u001b[0mget\u001b[0m\u001b[0;34m(\u001b[0m\u001b[0mitem\u001b[0m\u001b[0;34m)\u001b[0m\u001b[0;34m\u001b[0m\u001b[0m\n\u001b[0m\u001b[1;32m   1069\u001b[0m             \u001b[0mres\u001b[0m \u001b[0;34m=\u001b[0m \u001b[0mself\u001b[0m\u001b[0;34m.\u001b[0m\u001b[0m_box_item_values\u001b[0m\u001b[0;34m(\u001b[0m\u001b[0mitem\u001b[0m\u001b[0;34m,\u001b[0m \u001b[0mvalues\u001b[0m\u001b[0;34m)\u001b[0m\u001b[0;34m\u001b[0m\u001b[0m\n\u001b[1;32m   1070\u001b[0m             \u001b[0mcache\u001b[0m\u001b[0;34m[\u001b[0m\u001b[0mitem\u001b[0m\u001b[0;34m]\u001b[0m \u001b[0;34m=\u001b[0m \u001b[0mres\u001b[0m\u001b[0;34m\u001b[0m\u001b[0m\n",
      "\u001b[0;32m//anaconda/lib/python2.7/site-packages/pandas/core/internals.pyc\u001b[0m in \u001b[0;36mget\u001b[0;34m(self, item, fastpath)\u001b[0m\n\u001b[1;32m   2847\u001b[0m \u001b[0;34m\u001b[0m\u001b[0m\n\u001b[1;32m   2848\u001b[0m             \u001b[0;32mif\u001b[0m \u001b[0;32mnot\u001b[0m \u001b[0misnull\u001b[0m\u001b[0;34m(\u001b[0m\u001b[0mitem\u001b[0m\u001b[0;34m)\u001b[0m\u001b[0;34m:\u001b[0m\u001b[0;34m\u001b[0m\u001b[0m\n\u001b[0;32m-> 2849\u001b[0;31m                 \u001b[0mloc\u001b[0m \u001b[0;34m=\u001b[0m \u001b[0mself\u001b[0m\u001b[0;34m.\u001b[0m\u001b[0mitems\u001b[0m\u001b[0;34m.\u001b[0m\u001b[0mget_loc\u001b[0m\u001b[0;34m(\u001b[0m\u001b[0mitem\u001b[0m\u001b[0;34m)\u001b[0m\u001b[0;34m\u001b[0m\u001b[0m\n\u001b[0m\u001b[1;32m   2850\u001b[0m             \u001b[0;32melse\u001b[0m\u001b[0;34m:\u001b[0m\u001b[0;34m\u001b[0m\u001b[0m\n\u001b[1;32m   2851\u001b[0m                 \u001b[0mindexer\u001b[0m \u001b[0;34m=\u001b[0m \u001b[0mnp\u001b[0m\u001b[0;34m.\u001b[0m\u001b[0marange\u001b[0m\u001b[0;34m(\u001b[0m\u001b[0mlen\u001b[0m\u001b[0;34m(\u001b[0m\u001b[0mself\u001b[0m\u001b[0;34m.\u001b[0m\u001b[0mitems\u001b[0m\u001b[0;34m)\u001b[0m\u001b[0;34m)\u001b[0m\u001b[0;34m[\u001b[0m\u001b[0misnull\u001b[0m\u001b[0;34m(\u001b[0m\u001b[0mself\u001b[0m\u001b[0;34m.\u001b[0m\u001b[0mitems\u001b[0m\u001b[0;34m)\u001b[0m\u001b[0;34m]\u001b[0m\u001b[0;34m\u001b[0m\u001b[0m\n",
      "\u001b[0;32m//anaconda/lib/python2.7/site-packages/pandas/core/index.pyc\u001b[0m in \u001b[0;36mget_loc\u001b[0;34m(self, key)\u001b[0m\n\u001b[1;32m   1400\u001b[0m         \u001b[0mloc\u001b[0m \u001b[0;34m:\u001b[0m \u001b[0mint\u001b[0m \u001b[0;32mif\u001b[0m \u001b[0munique\u001b[0m \u001b[0mindex\u001b[0m\u001b[0;34m,\u001b[0m \u001b[0mpossibly\u001b[0m \u001b[0mslice\u001b[0m \u001b[0;32mor\u001b[0m \u001b[0mmask\u001b[0m \u001b[0;32mif\u001b[0m \u001b[0;32mnot\u001b[0m\u001b[0;34m\u001b[0m\u001b[0m\n\u001b[1;32m   1401\u001b[0m         \"\"\"\n\u001b[0;32m-> 1402\u001b[0;31m         \u001b[0;32mreturn\u001b[0m \u001b[0mself\u001b[0m\u001b[0;34m.\u001b[0m\u001b[0m_engine\u001b[0m\u001b[0;34m.\u001b[0m\u001b[0mget_loc\u001b[0m\u001b[0;34m(\u001b[0m\u001b[0m_values_from_object\u001b[0m\u001b[0;34m(\u001b[0m\u001b[0mkey\u001b[0m\u001b[0;34m)\u001b[0m\u001b[0;34m)\u001b[0m\u001b[0;34m\u001b[0m\u001b[0m\n\u001b[0m\u001b[1;32m   1403\u001b[0m \u001b[0;34m\u001b[0m\u001b[0m\n\u001b[1;32m   1404\u001b[0m     \u001b[0;32mdef\u001b[0m \u001b[0mget_value\u001b[0m\u001b[0;34m(\u001b[0m\u001b[0mself\u001b[0m\u001b[0;34m,\u001b[0m \u001b[0mseries\u001b[0m\u001b[0;34m,\u001b[0m \u001b[0mkey\u001b[0m\u001b[0;34m)\u001b[0m\u001b[0;34m:\u001b[0m\u001b[0;34m\u001b[0m\u001b[0m\n",
      "\u001b[0;32mpandas/index.pyx\u001b[0m in \u001b[0;36mpandas.index.IndexEngine.get_loc (pandas/index.c:3820)\u001b[0;34m()\u001b[0m\n",
      "\u001b[0;32mpandas/index.pyx\u001b[0m in \u001b[0;36mpandas.index.IndexEngine.get_loc (pandas/index.c:3700)\u001b[0;34m()\u001b[0m\n",
      "\u001b[0;32mpandas/hashtable.pyx\u001b[0m in \u001b[0;36mpandas.hashtable.PyObjectHashTable.get_item (pandas/hashtable.c:12323)\u001b[0;34m()\u001b[0m\n",
      "\u001b[0;32mpandas/hashtable.pyx\u001b[0m in \u001b[0;36mpandas.hashtable.PyObjectHashTable.get_item (pandas/hashtable.c:12274)\u001b[0;34m()\u001b[0m\n",
      "\u001b[0;31mKeyError\u001b[0m: 'Child'"
     ]
    }
   ],
   "source": [
    "train_data[\"Child\"]"
   ]
  },
  {
   "cell_type": "code",
   "execution_count": 14,
   "metadata": {
    "collapsed": false
   },
   "outputs": [],
   "source": [
    "train_data[\"Child\"] = float(\"NaN\")\n",
    "train_data.loc[train_data.Age < 18, \"Child\"] = 1\n",
    "train_data.loc[train_data.Age >= 18, \"Child\"] = 0"
   ]
  },
  {
   "cell_type": "code",
   "execution_count": 81,
   "metadata": {
    "collapsed": false
   },
   "outputs": [
    {
     "data": {
      "text/plain": [
       "0     0\n",
       "1     0\n",
       "2     0\n",
       "3     0\n",
       "4     0\n",
       "5     0\n",
       "6     0\n",
       "7     1\n",
       "8     0\n",
       "9     1\n",
       "10    1\n",
       "11    0\n",
       "12    0\n",
       "13    0\n",
       "14    1\n",
       "...\n",
       "876    0\n",
       "877    0\n",
       "878    0\n",
       "879    0\n",
       "880    0\n",
       "881    0\n",
       "882    0\n",
       "883    0\n",
       "884    0\n",
       "885    0\n",
       "886    0\n",
       "887    0\n",
       "888    0\n",
       "889    0\n",
       "890    0\n",
       "Name: Child, Length: 891, dtype: float64"
      ]
     },
     "execution_count": 81,
     "metadata": {},
     "output_type": "execute_result"
    }
   ],
   "source": [
    "train_data[\"Child\"]"
   ]
  },
  {
   "cell_type": "code",
   "execution_count": 15,
   "metadata": {
    "collapsed": true
   },
   "outputs": [],
   "source": [
    "import matplotlib.pyplot as plt"
   ]
  },
  {
   "cell_type": "code",
   "execution_count": 16,
   "metadata": {
    "collapsed": false
   },
   "outputs": [],
   "source": [
    "x = train_data[\"Age\"]\n",
    "y = train_data[\"Survived\"]"
   ]
  },
  {
   "cell_type": "code",
   "execution_count": 17,
   "metadata": {
    "collapsed": false
   },
   "outputs": [
    {
     "data": {
      "text/plain": [
       "pandas.core.series.Series"
      ]
     },
     "execution_count": 17,
     "metadata": {},
     "output_type": "execute_result"
    }
   ],
   "source": [
    "type(x)"
   ]
  },
  {
   "cell_type": "code",
   "execution_count": 18,
   "metadata": {
    "collapsed": true
   },
   "outputs": [],
   "source": [
    "import numpy as np"
   ]
  },
  {
   "cell_type": "code",
   "execution_count": 45,
   "metadata": {
    "collapsed": false
   },
   "outputs": [
    {
     "data": {
      "text/plain": [
       "numpy.ndarray"
      ]
     },
     "execution_count": 45,
     "metadata": {},
     "output_type": "execute_result"
    }
   ],
   "source": [
    "x_array = np.asarray(x)\n",
    "type(x_array)"
   ]
  },
  {
   "cell_type": "code",
   "execution_count": 20,
   "metadata": {
    "collapsed": true
   },
   "outputs": [],
   "source": [
    "y_array = np.asarray(y)"
   ]
  },
  {
   "cell_type": "code",
   "execution_count": 21,
   "metadata": {
    "collapsed": true
   },
   "outputs": [],
   "source": [
    "plt.scatter(x_array, y_array)\n",
    "plt.show()"
   ]
  },
  {
   "cell_type": "code",
   "execution_count": 69,
   "metadata": {
    "collapsed": false
   },
   "outputs": [
    {
     "name": "stdout",
     "output_type": "stream",
     "text": [
      "<type 'numpy.ndarray'>\n",
      "[ 62 279 220 167  89  48  19   7]\n",
      "[ 0 10 20 30 40 50 60 70 80]\n",
      "[0, 10, 20, 30, 40, 50, 60, 70, 80]\n",
      "[0, 10, 20, 30, 40, 50, 60, 70]\n",
      "[0, 10, 20, 30, 40, 50, 60, 70]\n",
      "[6.96629213483146, 31.348314606741575, 24.719101123595504, 18.764044943820224, 10.0, 5.393258426966292, 2.134831460674157, 0.7865168539325843]\n"
     ]
    },
    {
     "data": {
      "image/png": "[encoded data removed]",
      "text/plain": [
       "<matplotlib.figure.Figure at 0x10fdd1350>"
      ]
     },
     "metadata": {},
     "output_type": "display_data"
    }
   ],
   "source": [
    "%matplotlib inline\n",
    "x_binned, bin_edges = np.histogram(x_array, bins=[0,10,20,30,40,50,60,70,80])\n",
    "print(type(x_binned))\n",
    "print(x_binned)\n",
    "print(bin_edges)\n",
    "\n",
    "x_list = list(x_binned)\n",
    "convert_to_float = [float(i) for i in x_list]\n",
    "age_percent = [n/890*100 for n in convert_to_float]\n",
    "\n",
    "bins = list(bin_edges)\n",
    "print(bins)\n",
    "bins.pop()\n",
    "print(bins)\n",
    "position = [x + 5 for x in bins]\n",
    "print(bins)\n",
    "\n",
    "#age_percent = np.divide(x_binned, np.asarray([890]))\n",
    "print(age_percent)\n",
    "\n",
    "fig, ax = plt.subplots()\n",
    "\n",
    "width = 1\n",
    "chart = ax.bar(position, age_percent, width)\n",
    "title = \"Age Breakdown Across Population\"\n",
    "y_axis = \"Percent\"\n",
    "x_axis = \"Age (binned by 10)\"\n",
    "ax.set_title(title)\n",
    "ax.set_ylabel(y_axis)\n",
    "ax.set_xlabel(x_axis)\n",
    "plt.show()"
   ]
  },
  {
   "cell_type": "code",
   "execution_count": 66,
   "metadata": {
    "collapsed": false
   },
   "outputs": [
    {
     "data": {
      "text/plain": [
       "array([ 62, 279, 220, 167,  89,  48,  19,   7])"
      ]
     },
     "execution_count": 66,
     "metadata": {},
     "output_type": "execute_result"
    }
   ],
   "source": [
    "x_binned"
   ]
  },
  {
   "cell_type": "code",
   "execution_count": 35,
   "metadata": {
    "collapsed": false
   },
   "outputs": [],
   "source": [
    "max = x_array.max"
   ]
  },
  {
   "cell_type": "markdown",
   "metadata": {},
   "source": [
    "max"
   ]
  },
  {
   "cell_type": "code",
   "execution_count": 36,
   "metadata": {
    "collapsed": true
   },
   "outputs": [],
   "source": [
    "x_max = np.amax(x_array)"
   ]
  },
  {
   "cell_type": "code",
   "execution_count": 38,
   "metadata": {
    "collapsed": false
   },
   "outputs": [
    {
     "data": {
      "text/plain": [
       "80.0"
      ]
     },
     "execution_count": 38,
     "metadata": {},
     "output_type": "execute_result"
    }
   ],
   "source": [
    "x_max\n",
    "#find the oldest person in the training data"
   ]
  },
  {
   "cell_type": "code",
   "execution_count": null,
   "metadata": {
    "collapsed": true
   },
   "outputs": [],
   "source": []
  }
 ],
 "metadata": {
  "kernelspec": {
   "display_name": "Python 2",
   "language": "python",
   "name": "python2"
  },
  "language_info": {
   "codemirror_mode": {
    "name": "ipython",
    "version": 2
   },
   "file_extension": ".py",
   "mimetype": "text/x-python",
   "name": "python",
   "nbconvert_exporter": "python",
   "pygments_lexer": "ipython2",
   "version": "2.7.11"
  }
 },
 "nbformat": 4,
 "nbformat_minor": 0
}
